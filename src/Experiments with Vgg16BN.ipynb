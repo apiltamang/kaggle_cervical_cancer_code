{
 "cells": [
  {
   "cell_type": "markdown",
   "metadata": {},
   "source": [
    "## Vgg16BN Finetuning experienced with the batch_normalized fc layers\n",
    "\n",
    "### Result: Can't get val_loss to come down below what we had for regular Vgg16\n",
    "###              Currently unable to rewire the trained dense-layers back with the conv.\n",
    "###              model to generate outputs."
   ]
  },
  {
   "cell_type": "code",
   "execution_count": 1,
   "metadata": {
    "collapsed": false
   },
   "outputs": [
    {
     "name": "stderr",
     "output_type": "stream",
     "text": [
      "Using Theano backend.\n",
      "Using gpu device 0: Tesla K80 (CNMeM is disabled, cuDNN 5103)\n",
      "/home/ubuntu/anaconda2/lib/python2.7/site-packages/theano/sandbox/cuda/__init__.py:600: UserWarning: Your cuDNN version is more recent than the one Theano officially supports. If you see any problems, try updating Theano or downgrading cuDNN to version 5.\n",
      "  warnings.warn(warn)\n"
     ]
    }
   ],
   "source": [
    "import Executor"
   ]
  },
  {
   "cell_type": "code",
   "execution_count": 3,
   "metadata": {
    "collapsed": true
   },
   "outputs": [],
   "source": [
    "from Executor import *"
   ]
  },
  {
   "cell_type": "code",
   "execution_count": 6,
   "metadata": {
    "collapsed": false
   },
   "outputs": [
    {
     "name": "stdout",
     "output_type": "stream",
     "text": [
      "Pretrained Vgg16BN model loaded.\n",
      "Found 6166 images belonging to 3 classes.\n",
      "Found 1461 images belonging to 3 classes.\n",
      "initialized training data from: ../data/segmented/train\n",
      "initialized validation data from: ../data/segmented/valid\n",
      "found number of softmax classes: 3\n"
     ]
    }
   ],
   "source": [
    "executor = ExecutorBuilder().\\\n",
    "    with_runID(\"augmented.bn\").\\\n",
    "    and_().\\\n",
    "    with_Vgg16BN().\\\n",
    "    and_().\\\n",
    "    train_batch_size(128). \\\n",
    "    and_(). \\\n",
    "    learn_rate(0.001).\\\n",
    "    and_().\\\n",
    "    data_on_path(\"../data/segmented/\").\\\n",
    "    build()\n"
   ]
  },
  {
   "cell_type": "code",
   "execution_count": 8,
   "metadata": {
    "collapsed": false
   },
   "outputs": [
    {
     "name": "stdout",
     "output_type": "stream",
     "text": [
      "precomputing conv. model outputs..\n",
      "Found 6166 images belonging to 3 classes.\n",
      "Found 1461 images belonging to 3 classes.\n",
      "('models saved to files: ', 'precomputed_trn_features.augmented.bn.h5', ' and ', 'precomputed_val_features.augmented.bn.h5')\n",
      "done.\n"
     ]
    },
    {
     "data": {
      "text/plain": [
       "<Executor.Executor instance at 0x7feb89107320>"
      ]
     },
     "execution_count": 8,
     "metadata": {},
     "output_type": "execute_result"
    }
   ],
   "source": [
    "#done..\n",
    "executor.precompute_conv_model_outputs()\n",
    "#executor.load_precomputed_conv_models()"
   ]
  },
  {
   "cell_type": "code",
   "execution_count": 9,
   "metadata": {
    "collapsed": false
   },
   "outputs": [
    {
     "name": "stdout",
     "output_type": "stream",
     "text": [
      "Epoch 1/1\n",
      "6166/6166 [==============================] - 196s - loss: 2.5284 - acc: 0.4437 - val_loss: 1.3194 - val_acc: 0.5428\n",
      "Vgg model finetuned.\n"
     ]
    },
    {
     "data": {
      "text/plain": [
       "<Executor.Executor instance at 0x7feb89107320>"
      ]
     },
     "execution_count": 9,
     "metadata": {},
     "output_type": "execute_result"
    }
   ],
   "source": [
    "executor.tune_softmax_layer_for_epochs(1)\n",
    "# 6255/6255 [==============================] - 201s - loss: 2.3536 - acc: 0.4571 - val_loss: 1.1148 - val_acc: 0.5261\n"
   ]
  },
  {
   "cell_type": "code",
   "execution_count": 10,
   "metadata": {
    "collapsed": false
   },
   "outputs": [
    {
     "name": "stdout",
     "output_type": "stream",
     "text": [
      "getting rescaled fc model...\n",
      "found dense layer. Distributing scaled weights..\n",
      "found dense layer. Distributing scaled weights..\n",
      "found dense layer. Distributing scaled weights..\n",
      "found dense layer. Distributing scaled weights..\n",
      "found dense layer. Distributing scaled weights..\n",
      "found dense layer. Distributing scaled weights..\n",
      "found dense layer. Distributing scaled weights..\n",
      "found dense layer. Distributing scaled weights..\n",
      "found dense layer. Distributing scaled weights..\n",
      "done...\n",
      "('updating dropout from: ', 0.5, ' to: ', 0.5)\n"
     ]
    }
   ],
   "source": [
    "fc_model = executor.get_rescaled_fc_model(new_dropout=0.5)"
   ]
  },
  {
   "cell_type": "code",
   "execution_count": 11,
   "metadata": {
    "collapsed": true
   },
   "outputs": [],
   "source": [
    "for layer in fc_model.layers:\n",
    "    layer.trainable = False\n",
    "\n",
    "fc_model.layers[-1].trainable = True"
   ]
  },
  {
   "cell_type": "code",
   "execution_count": 12,
   "metadata": {
    "collapsed": false
   },
   "outputs": [
    {
     "name": "stdout",
     "output_type": "stream",
     "text": [
      "fine tuning the rescaled fc model...\n",
      "Train on 6166 samples, validate on 1461 samples\n",
      "Epoch 1/5\n",
      "6166/6166 [==============================] - 3s - loss: 2.0961 - acc: 0.4804 - val_loss: 1.1515 - val_acc: 0.5305\n",
      "Epoch 2/5\n",
      "6166/6166 [==============================] - 3s - loss: 1.8620 - acc: 0.4921 - val_loss: 1.1346 - val_acc: 0.5270\n",
      "Epoch 3/5\n",
      "6166/6166 [==============================] - 3s - loss: 1.6369 - acc: 0.5079 - val_loss: 1.0316 - val_acc: 0.5702\n",
      "Epoch 4/5\n",
      "6166/6166 [==============================] - 3s - loss: 1.5240 - acc: 0.5206 - val_loss: 1.0047 - val_acc: 0.5530\n",
      "Epoch 5/5\n",
      "6166/6166 [==============================] - 3s - loss: 1.4184 - acc: 0.5187 - val_loss: 1.0139 - val_acc: 0.5592\n"
     ]
    },
    {
     "data": {
      "text/plain": [
       "<keras.callbacks.History at 0x7feb6199dbd0>"
      ]
     },
     "execution_count": 12,
     "metadata": {},
     "output_type": "execute_result"
    }
   ],
   "source": [
    "opt = Adam(lr=0.001)\n",
    "fc_model.compile(optimizer=opt, loss='categorical_crossentropy', metrics=['accuracy'])\n",
    "\n",
    "print(\"fine tuning the rescaled fc model...\")\n",
    "fc_model.fit(executor.train_precomputed, executor.train_labels, nb_epoch=5,\n",
    "               batch_size= executor.batch_size, validation_data=(executor.val_precomputed, executor.val_labels))"
   ]
  },
  {
   "cell_type": "code",
   "execution_count": 13,
   "metadata": {
    "collapsed": false
   },
   "outputs": [
    {
     "name": "stdout",
     "output_type": "stream",
     "text": [
      "Train on 6166 samples, validate on 1461 samples\n",
      "Epoch 1/5\n",
      "6166/6166 [==============================] - 3s - loss: 1.3403 - acc: 0.5281 - val_loss: 0.9845 - val_acc: 0.5489\n",
      "Epoch 2/5\n",
      "6166/6166 [==============================] - 3s - loss: 1.3580 - acc: 0.5321 - val_loss: 1.0587 - val_acc: 0.5181\n",
      "Epoch 3/5\n",
      "6166/6166 [==============================] - 3s - loss: 1.3051 - acc: 0.5368 - val_loss: 1.0207 - val_acc: 0.5387\n",
      "Epoch 4/5\n",
      "6166/6166 [==============================] - 3s - loss: 1.3111 - acc: 0.5339 - val_loss: 1.0407 - val_acc: 0.5332\n",
      "Epoch 5/5\n",
      "6166/6166 [==============================] - 3s - loss: 1.2697 - acc: 0.5352 - val_loss: 0.9545 - val_acc: 0.5763\n"
     ]
    },
    {
     "data": {
      "text/plain": [
       "<keras.callbacks.History at 0x7feb6199de90>"
      ]
     },
     "execution_count": 13,
     "metadata": {},
     "output_type": "execute_result"
    }
   ],
   "source": [
    "# tune for 5 more times...\n",
    "fc_model.fit(executor.train_precomputed, executor.train_labels, nb_epoch=5,\n",
    "               batch_size= executor.batch_size, validation_data=(executor.val_precomputed, executor.val_labels))"
   ]
  },
  {
   "cell_type": "code",
   "execution_count": 14,
   "metadata": {
    "collapsed": false
   },
   "outputs": [
    {
     "name": "stdout",
     "output_type": "stream",
     "text": [
      "fine tuning the rescaled fc model...\n",
      "Train on 6166 samples, validate on 1461 samples\n",
      "Epoch 1/5\n",
      "6166/6166 [==============================] - 3s - loss: 1.3191 - acc: 0.5307 - val_loss: 0.9819 - val_acc: 0.5743\n",
      "Epoch 2/5\n",
      "6166/6166 [==============================] - 3s - loss: 1.2422 - acc: 0.5431 - val_loss: 1.0011 - val_acc: 0.5729\n",
      "Epoch 3/5\n",
      "6166/6166 [==============================] - 3s - loss: 1.2821 - acc: 0.5339 - val_loss: 0.9648 - val_acc: 0.5770\n",
      "Epoch 4/5\n",
      "6166/6166 [==============================] - 3s - loss: 1.2665 - acc: 0.5365 - val_loss: 0.9705 - val_acc: 0.5743\n",
      "Epoch 5/5\n",
      "6166/6166 [==============================] - 3s - loss: 1.2779 - acc: 0.5370 - val_loss: 0.9896 - val_acc: 0.5510\n"
     ]
    },
    {
     "data": {
      "text/plain": [
       "<keras.callbacks.History at 0x7feb60d0b0d0>"
      ]
     },
     "execution_count": 14,
     "metadata": {},
     "output_type": "execute_result"
    }
   ],
   "source": [
    "# Tune for 5 more times with reduced learn_rate\n",
    "opt = Adam(lr=0.001)\n",
    "fc_model.compile(optimizer=opt, loss='categorical_crossentropy', metrics=['accuracy'])\n",
    "\n",
    "print(\"fine tuning the rescaled fc model...\")\n",
    "fc_model.fit(executor.train_precomputed, executor.train_labels, nb_epoch=5,\n",
    "               batch_size= executor.batch_size, validation_data=(executor.val_precomputed, executor.val_labels))"
   ]
  },
  {
   "cell_type": "code",
   "execution_count": 15,
   "metadata": {
    "collapsed": false
   },
   "outputs": [
    {
     "name": "stdout",
     "output_type": "stream",
     "text": [
      "fine tuning the rescaled fc model...\n",
      "Train on 6166 samples, validate on 1461 samples\n",
      "Epoch 1/5\n",
      "6166/6166 [==============================] - 3s - loss: 1.1422 - acc: 0.5585 - val_loss: 0.9044 - val_acc: 0.5989\n",
      "Epoch 2/5\n",
      "6166/6166 [==============================] - 3s - loss: 1.0973 - acc: 0.5584 - val_loss: 0.8916 - val_acc: 0.5955\n",
      "Epoch 3/5\n",
      "6166/6166 [==============================] - 3s - loss: 1.0816 - acc: 0.5631 - val_loss: 0.8975 - val_acc: 0.5927\n",
      "Epoch 4/5\n",
      "6166/6166 [==============================] - 3s - loss: 1.0724 - acc: 0.5723 - val_loss: 0.8914 - val_acc: 0.5962\n",
      "Epoch 5/5\n",
      "6166/6166 [==============================] - 3s - loss: 1.0457 - acc: 0.5660 - val_loss: 0.8780 - val_acc: 0.6044\n"
     ]
    },
    {
     "data": {
      "text/plain": [
       "<keras.callbacks.History at 0x7feb624be090>"
      ]
     },
     "execution_count": 15,
     "metadata": {},
     "output_type": "execute_result"
    }
   ],
   "source": [
    "opt = Adam(lr=0.0001)\n",
    "fc_model.compile(optimizer=opt, loss='categorical_crossentropy', metrics=['accuracy'])\n",
    "\n",
    "print(\"fine tuning the rescaled fc model...\")\n",
    "fc_model.fit(executor.train_precomputed, executor.train_labels, nb_epoch=5,\n",
    "               batch_size= executor.batch_size, validation_data=(executor.val_precomputed, executor.val_labels))"
   ]
  },
  {
   "cell_type": "code",
   "execution_count": 16,
   "metadata": {
    "collapsed": false
   },
   "outputs": [
    {
     "name": "stdout",
     "output_type": "stream",
     "text": [
      "fine tuning the rescaled fc model...\n",
      "Train on 6166 samples, validate on 1461 samples\n",
      "Epoch 1/5\n",
      "6166/6166 [==============================] - 3s - loss: 1.0037 - acc: 0.5762 - val_loss: 0.8915 - val_acc: 0.5914\n",
      "Epoch 2/5\n",
      "6166/6166 [==============================] - 3s - loss: 1.0122 - acc: 0.5800 - val_loss: 0.8743 - val_acc: 0.6023\n",
      "Epoch 3/5\n",
      "6166/6166 [==============================] - 3s - loss: 0.9898 - acc: 0.5718 - val_loss: 0.8642 - val_acc: 0.5989\n",
      "Epoch 4/5\n",
      "6166/6166 [==============================] - 3s - loss: 0.9860 - acc: 0.5803 - val_loss: 0.8648 - val_acc: 0.6016\n",
      "Epoch 5/5\n",
      "6166/6166 [==============================] - 3s - loss: 0.9735 - acc: 0.5848 - val_loss: 0.8644 - val_acc: 0.5934\n"
     ]
    },
    {
     "data": {
      "text/plain": [
       "<keras.callbacks.History at 0x7feb624be950>"
      ]
     },
     "execution_count": 16,
     "metadata": {},
     "output_type": "execute_result"
    }
   ],
   "source": [
    "# 5 more epochs at same lr\n",
    "print(\"fine tuning the rescaled fc model...\")\n",
    "fc_model.fit(executor.train_precomputed, executor.train_labels, nb_epoch=5,\n",
    "               batch_size= executor.batch_size, validation_data=(executor.val_precomputed, executor.val_labels))\n"
   ]
  },
  {
   "cell_type": "code",
   "execution_count": 18,
   "metadata": {
    "collapsed": true
   },
   "outputs": [],
   "source": [
    "for layer in fc_model.layers:\n",
    "    layer.trainable=True\n",
    "\n",
    "fc_model.save_weights(\"fc_model_finetuned_val_loss_0_86.augmented.weights.bn.h5\")"
   ]
  },
  {
   "cell_type": "code",
   "execution_count": 19,
   "metadata": {
    "collapsed": false
   },
   "outputs": [
    {
     "name": "stdout",
     "output_type": "stream",
     "text": [
      "fine tuning the rescaled fc model...\n",
      "Train on 6166 samples, validate on 1461 samples\n",
      "Epoch 1/5\n",
      "6166/6166 [==============================] - 8s - loss: 0.9603 - acc: 0.5887 - val_loss: 0.8350 - val_acc: 0.6099\n",
      "Epoch 2/5\n",
      "6166/6166 [==============================] - 8s - loss: 0.7939 - acc: 0.6542 - val_loss: 0.7988 - val_acc: 0.6304\n",
      "Epoch 3/5\n",
      "6166/6166 [==============================] - 8s - loss: 0.6657 - acc: 0.7136 - val_loss: 0.7729 - val_acc: 0.6516\n",
      "Epoch 4/5\n",
      "6166/6166 [==============================] - 8s - loss: 0.5662 - acc: 0.7655 - val_loss: 0.7588 - val_acc: 0.6523\n",
      "Epoch 5/5\n",
      "6166/6166 [==============================] - 8s - loss: 0.4699 - acc: 0.8085 - val_loss: 0.7426 - val_acc: 0.6708\n"
     ]
    },
    {
     "data": {
      "text/plain": [
       "<keras.callbacks.History at 0x7feb6100ddd0>"
      ]
     },
     "execution_count": 19,
     "metadata": {},
     "output_type": "execute_result"
    }
   ],
   "source": [
    "# final val_loss increases.. so decrease lr\n",
    "opt = Adam(lr=0.00001)\n",
    "fc_model.compile(optimizer=opt, loss='categorical_crossentropy', metrics=['accuracy'])\n",
    "\n",
    "print(\"fine tuning the rescaled fc model...\")\n",
    "fc_model.fit(executor.train_precomputed, executor.train_labels, nb_epoch=5,\n",
    "               batch_size= executor.batch_size, validation_data=(executor.val_precomputed, executor.val_labels))"
   ]
  },
  {
   "cell_type": "code",
   "execution_count": 20,
   "metadata": {
    "collapsed": false
   },
   "outputs": [
    {
     "name": "stdout",
     "output_type": "stream",
     "text": [
      "Train on 6166 samples, validate on 1461 samples\n",
      "Epoch 1/5\n",
      "6166/6166 [==============================] - 8s - loss: 0.3770 - acc: 0.8500 - val_loss: 0.7308 - val_acc: 0.6715\n",
      "Epoch 2/5\n",
      "6166/6166 [==============================] - 8s - loss: 0.3113 - acc: 0.8831 - val_loss: 0.7228 - val_acc: 0.6790\n",
      "Epoch 3/5\n",
      "6166/6166 [==============================] - 9s - loss: 0.2716 - acc: 0.9048 - val_loss: 0.7250 - val_acc: 0.6886\n",
      "Epoch 4/5\n",
      "6166/6166 [==============================] - 9s - loss: 0.2194 - acc: 0.9262 - val_loss: 0.7224 - val_acc: 0.6886\n",
      "Epoch 5/5\n",
      "6166/6166 [==============================] - 9s - loss: 0.1776 - acc: 0.9428 - val_loss: 0.7254 - val_acc: 0.6879\n"
     ]
    },
    {
     "data": {
      "text/plain": [
       "<keras.callbacks.History at 0x7feb6100c550>"
      ]
     },
     "execution_count": 20,
     "metadata": {},
     "output_type": "execute_result"
    }
   ],
   "source": [
    "fc_model.fit(executor.train_precomputed, executor.train_labels, nb_epoch=5,\n",
    "               batch_size= executor.batch_size, validation_data=(executor.val_precomputed, executor.val_labels))"
   ]
  },
  {
   "cell_type": "code",
   "execution_count": 21,
   "metadata": {
    "collapsed": false
   },
   "outputs": [
    {
     "name": "stdout",
     "output_type": "stream",
     "text": [
      "fine tuning the rescaled fc model...\n",
      "Train on 6166 samples, validate on 1461 samples\n",
      "Epoch 1/5\n",
      "6166/6166 [==============================] - 8s - loss: 0.1536 - acc: 0.9530 - val_loss: 0.7216 - val_acc: 0.6879\n",
      "Epoch 2/5\n",
      "6166/6166 [==============================] - 9s - loss: 0.1513 - acc: 0.9546 - val_loss: 0.7229 - val_acc: 0.6872\n",
      "Epoch 3/5\n",
      "6166/6166 [==============================] - 9s - loss: 0.1412 - acc: 0.9586 - val_loss: 0.7229 - val_acc: 0.6899\n",
      "Epoch 4/5\n",
      "6166/6166 [==============================] - 9s - loss: 0.1427 - acc: 0.9560 - val_loss: 0.7233 - val_acc: 0.6920\n",
      "Epoch 5/5\n",
      "6166/6166 [==============================] - 8s - loss: 0.1361 - acc: 0.9599 - val_loss: 0.7242 - val_acc: 0.6920\n"
     ]
    },
    {
     "data": {
      "text/plain": [
       "<keras.callbacks.History at 0x7feb60b4f550>"
      ]
     },
     "execution_count": 21,
     "metadata": {},
     "output_type": "execute_result"
    }
   ],
   "source": [
    "opt = Adam(lr=0.000001)\n",
    "fc_model.compile(optimizer=opt, loss='categorical_crossentropy', metrics=['accuracy'])\n",
    "\n",
    "print(\"fine tuning the rescaled fc model...\")\n",
    "fc_model.fit(executor.train_precomputed, executor.train_labels, nb_epoch=5,\n",
    "               batch_size= executor.batch_size, validation_data=(executor.val_precomputed, executor.val_labels))"
   ]
  },
  {
   "cell_type": "markdown",
   "metadata": {},
   "source": [
    "## Generate Predictions"
   ]
  },
  {
   "cell_type": "code",
   "execution_count": 22,
   "metadata": {
    "collapsed": true
   },
   "outputs": [],
   "source": [
    "fc_model.save_weights(\"fc_model_finetuned_val_loss_0_72.augmented.weights.bn.h5\")"
   ]
  },
  {
   "cell_type": "code",
   "execution_count": 24,
   "metadata": {
    "collapsed": false
   },
   "outputs": [
    {
     "name": "stdout",
     "output_type": "stream",
     "text": [
      "('last conv index: ', 30)\n"
     ]
    }
   ],
   "source": [
    "layers = executor.vgg.model.layers\n",
    "last_conv_idx = [index for index, layer in enumerate(layers)\n",
    "                 if type(layer) is Convolution2D][-1]\n",
    "print(\"last conv index: \",last_conv_idx)"
   ]
  },
  {
   "cell_type": "code",
   "execution_count": 27,
   "metadata": {
    "collapsed": false
   },
   "outputs": [
    {
     "name": "stdout",
     "output_type": "stream",
     "text": [
      "('l1: ', <keras.layers.pooling.MaxPooling2D object at 0x7feb8506f090>, 'l2: ', <keras.layers.pooling.MaxPooling2D object at 0x7feb64869fd0>)\n",
      "('l1: ', <keras.layers.core.Flatten object at 0x7feb85002b90>, 'l2: ', <keras.layers.core.Flatten object at 0x7feb64869f10>)\n",
      "('l1: ', <keras.layers.core.Dense object at 0x7feb8500bb50>, 'l2: ', <keras.layers.core.Dense object at 0x7feb84f994d0>)\n",
      "('l1: ', <keras.layers.normalization.BatchNormalization object at 0x7feb85010e10>, 'l2: ', <keras.layers.normalization.BatchNormalization object at 0x7feb84f7bb50>)\n",
      "('l1: ', <keras.layers.core.Dropout object at 0x7feb84f62190>, 'l2: ', <keras.layers.core.Dropout object at 0x7feb64866190>)\n",
      "('l1: ', <keras.layers.core.Dense object at 0x7feb84f6e3d0>, 'l2: ', <keras.layers.core.Dense object at 0x7feb64866410>)\n",
      "('l1: ', <keras.layers.normalization.BatchNormalization object at 0x7feb84f7b650>, 'l2: ', <keras.layers.normalization.BatchNormalization object at 0x7feb648660d0>)\n",
      "('l1: ', <keras.layers.core.Dropout object at 0x7feb84f486d0>, 'l2: ', <keras.layers.core.Dropout object at 0x7feb648664d0>)\n",
      "('l1: ', <keras.layers.core.Dense object at 0x7feb84f100d0>, 'l2: ', <keras.layers.core.Dense object at 0x7feb64866450>)\n"
     ]
    }
   ],
   "source": [
    "\n",
    "for l1,l2 in zip(executor.vgg.model.layers[last_conv_idx+1:],fc_model.layers):\n",
    "    print(\"l1: \",l1, \"l2: \",l2)\n",
    "    l1.set_weights(l2.get_weights())"
   ]
  },
  {
   "cell_type": "code",
   "execution_count": 28,
   "metadata": {
    "collapsed": false
   },
   "outputs": [
    {
     "name": "stdout",
     "output_type": "stream",
     "text": [
      "Found 512 images belonging to 1 classes.\n"
     ]
    },
    {
     "data": {
      "text/plain": [
       "<Executor.Executor instance at 0x7feb89107320>"
      ]
     },
     "execution_count": 28,
     "metadata": {},
     "output_type": "execute_result"
    }
   ],
   "source": [
    "executor.build_predictions_on_test_data()"
   ]
  },
  {
   "cell_type": "code",
   "execution_count": 29,
   "metadata": {
    "collapsed": false
   },
   "outputs": [
    {
     "data": {
      "text/html": [
       "<a href='predictions.val_loss_0_72.bn.h5' target='_blank'>predictions.val_loss_0_72.bn.h5</a><br>"
      ],
      "text/plain": [
       "/home/ubuntu/kaggle_cervical_cancer_code/src/predictions.val_loss_0_72.bn.h5"
      ]
     },
     "execution_count": 29,
     "metadata": {},
     "output_type": "execute_result"
    }
   ],
   "source": [
    "executor.save_predictions_to_file(\"predictions.val_loss_0_72.bn.h5\")"
   ]
  },
  {
   "cell_type": "code",
   "execution_count": 31,
   "metadata": {
    "collapsed": false
   },
   "outputs": [],
   "source": [
    "fc_model.load_weights(\"fc_model_finetuned_val_loss_0_72.augmented.weights.bn.h5\")"
   ]
  },
  {
   "cell_type": "code",
   "execution_count": 32,
   "metadata": {
    "collapsed": false
   },
   "outputs": [
    {
     "name": "stdout",
     "output_type": "stream",
     "text": [
      "getting rescaled fc model...\n",
      "found dense layer. Distributing scaled weights..\n",
      "found dense layer. Distributing scaled weights..\n",
      "found dense layer. Distributing scaled weights..\n",
      "found dense layer. Distributing scaled weights..\n",
      "found dense layer. Distributing scaled weights..\n",
      "found dense layer. Distributing scaled weights..\n",
      "found dense layer. Distributing scaled weights..\n",
      "found dense layer. Distributing scaled weights..\n",
      "found dense layer. Distributing scaled weights..\n",
      "done...\n",
      "('updating dropout from: ', 0.5, ' to: ', 0.3)\n"
     ]
    }
   ],
   "source": [
    "fc_model = executor.get_rescaled_fc_model(new_dropout=0.3)"
   ]
  },
  {
   "cell_type": "code",
   "execution_count": 34,
   "metadata": {
    "collapsed": false
   },
   "outputs": [
    {
     "name": "stdout",
     "output_type": "stream",
     "text": [
      "fine tuning the rescaled fc model...\n",
      "Train on 6166 samples, validate on 1461 samples\n",
      "Epoch 1/2\n",
      "6166/6166 [==============================] - 3s - loss: 0.1872 - acc: 0.9924 - val_loss: 0.7558 - val_acc: 0.6920\n",
      "Epoch 2/2\n",
      "6166/6166 [==============================] - 3s - loss: 0.1855 - acc: 0.9929 - val_loss: 0.7217 - val_acc: 0.6913\n"
     ]
    },
    {
     "data": {
      "text/plain": [
       "<keras.callbacks.History at 0x7feb5781ae50>"
      ]
     },
     "execution_count": 34,
     "metadata": {},
     "output_type": "execute_result"
    }
   ],
   "source": [
    "for layer in fc_model.layers:\n",
    "    layer.trainable = False\n",
    "fc_model.layers[-1].trainable = True\n",
    "\n",
    "opt = Adam(lr=0.000001)\n",
    "fc_model.compile(optimizer=opt, loss='categorical_crossentropy', metrics=['accuracy'])\n",
    "\n",
    "\n",
    "print(\"fine tuning the rescaled fc model...\")\n",
    "fc_model.fit(executor.train_precomputed, executor.train_labels, nb_epoch=2,\n",
    "               batch_size= executor.batch_size, validation_data=(executor.val_precomputed, executor.val_labels))"
   ]
  },
  {
   "cell_type": "code",
   "execution_count": 35,
   "metadata": {
    "collapsed": false
   },
   "outputs": [
    {
     "name": "stdout",
     "output_type": "stream",
     "text": [
      "fine tuning the rescaled fc model...\n",
      "Train on 6166 samples, validate on 1461 samples\n",
      "Epoch 1/5\n",
      "6166/6166 [==============================] - 3s - loss: 0.1798 - acc: 0.9924 - val_loss: 0.6978 - val_acc: 0.6906\n",
      "Epoch 2/5\n",
      "6166/6166 [==============================] - 3s - loss: 0.1742 - acc: 0.9899 - val_loss: 0.6885 - val_acc: 0.6927\n",
      "Epoch 3/5\n",
      "6166/6166 [==============================] - 3s - loss: 0.1623 - acc: 0.9925 - val_loss: 0.6849 - val_acc: 0.6927\n",
      "Epoch 4/5\n",
      "6166/6166 [==============================] - 3s - loss: 0.1559 - acc: 0.9925 - val_loss: 0.6838 - val_acc: 0.6934\n",
      "Epoch 5/5\n",
      "6166/6166 [==============================] - 3s - loss: 0.1486 - acc: 0.9916 - val_loss: 0.6833 - val_acc: 0.6920\n"
     ]
    },
    {
     "data": {
      "text/plain": [
       "<keras.callbacks.History at 0x7feb56289bd0>"
      ]
     },
     "execution_count": 35,
     "metadata": {},
     "output_type": "execute_result"
    }
   ],
   "source": [
    "opt = Adam(lr=0.00001)\n",
    "fc_model.compile(optimizer=opt, loss='categorical_crossentropy', metrics=['accuracy'])\n",
    "\n",
    "\n",
    "print(\"fine tuning the rescaled fc model...\")\n",
    "fc_model.fit(executor.train_precomputed, executor.train_labels, nb_epoch=5,\n",
    "               batch_size= executor.batch_size, validation_data=(executor.val_precomputed, executor.val_labels))"
   ]
  },
  {
   "cell_type": "code",
   "execution_count": 36,
   "metadata": {
    "collapsed": false
   },
   "outputs": [
    {
     "name": "stdout",
     "output_type": "stream",
     "text": [
      "Train on 6166 samples, validate on 1461 samples\n",
      "Epoch 1/5\n",
      "6166/6166 [==============================] - 3s - loss: 0.1460 - acc: 0.9912 - val_loss: 0.6850 - val_acc: 0.6886\n",
      "Epoch 2/5\n",
      "6166/6166 [==============================] - 3s - loss: 0.1436 - acc: 0.9904 - val_loss: 0.6865 - val_acc: 0.6927\n",
      "Epoch 3/5\n",
      "6166/6166 [==============================] - 3s - loss: 0.1385 - acc: 0.9899 - val_loss: 0.6885 - val_acc: 0.6940\n",
      "Epoch 4/5\n",
      "6166/6166 [==============================] - 3s - loss: 0.1352 - acc: 0.9908 - val_loss: 0.6891 - val_acc: 0.6947\n",
      "Epoch 5/5\n",
      "6166/6166 [==============================] - 3s - loss: 0.1303 - acc: 0.9929 - val_loss: 0.6917 - val_acc: 0.6927\n"
     ]
    },
    {
     "data": {
      "text/plain": [
       "<keras.callbacks.History at 0x7feb56289d90>"
      ]
     },
     "execution_count": 36,
     "metadata": {},
     "output_type": "execute_result"
    }
   ],
   "source": [
    "fc_model.fit(executor.train_precomputed, executor.train_labels, nb_epoch=5,\n",
    "               batch_size= executor.batch_size, validation_data=(executor.val_precomputed, executor.val_labels))"
   ]
  },
  {
   "cell_type": "code",
   "execution_count": 37,
   "metadata": {
    "collapsed": true
   },
   "outputs": [],
   "source": [
    "fc_model.layers[-2].trainable = True"
   ]
  },
  {
   "cell_type": "code",
   "execution_count": 38,
   "metadata": {
    "collapsed": false
   },
   "outputs": [
    {
     "name": "stdout",
     "output_type": "stream",
     "text": [
      "fine tuning the rescaled fc model...\n",
      "Train on 6166 samples, validate on 1461 samples\n",
      "Epoch 1/5\n",
      "6166/6166 [==============================] - 3s - loss: 0.1303 - acc: 0.9908 - val_loss: 0.6929 - val_acc: 0.6920\n",
      "Epoch 2/5\n",
      "6166/6166 [==============================] - 3s - loss: 0.1271 - acc: 0.9908 - val_loss: 0.6943 - val_acc: 0.6947\n",
      "Epoch 3/5\n",
      "6166/6166 [==============================] - 3s - loss: 0.1217 - acc: 0.9922 - val_loss: 0.6949 - val_acc: 0.6954\n",
      "Epoch 4/5\n",
      "6166/6166 [==============================] - 3s - loss: 0.1204 - acc: 0.9895 - val_loss: 0.6968 - val_acc: 0.6940\n",
      "Epoch 5/5\n",
      "6166/6166 [==============================] - 3s - loss: 0.1150 - acc: 0.9914 - val_loss: 0.6987 - val_acc: 0.6913\n"
     ]
    },
    {
     "data": {
      "text/plain": [
       "<keras.callbacks.History at 0x7feb55160a10>"
      ]
     },
     "execution_count": 38,
     "metadata": {},
     "output_type": "execute_result"
    }
   ],
   "source": [
    "opt = Adam(lr=0.00001)\n",
    "fc_model.compile(optimizer=opt, loss='categorical_crossentropy', metrics=['accuracy'])\n",
    "\n",
    "\n",
    "print(\"fine tuning the rescaled fc model...\")\n",
    "fc_model.fit(executor.train_precomputed, executor.train_labels, nb_epoch=5,\n",
    "               batch_size= executor.batch_size, validation_data=(executor.val_precomputed, executor.val_labels))"
   ]
  },
  {
   "cell_type": "code",
   "execution_count": 39,
   "metadata": {
    "collapsed": false
   },
   "outputs": [
    {
     "name": "stdout",
     "output_type": "stream",
     "text": [
      "fine tuning the rescaled fc model...\n",
      "Train on 6166 samples, validate on 1461 samples\n",
      "Epoch 1/2\n",
      "6166/6166 [==============================] - 8s - loss: 0.1123 - acc: 0.9922 - val_loss: 0.6965 - val_acc: 0.6954\n",
      "Epoch 2/2\n",
      "6166/6166 [==============================] - 9s - loss: 0.0985 - acc: 0.9937 - val_loss: 0.6965 - val_acc: 0.6954\n"
     ]
    },
    {
     "data": {
      "text/plain": [
       "<keras.callbacks.History at 0x7feb55b4ac50>"
      ]
     },
     "execution_count": 39,
     "metadata": {},
     "output_type": "execute_result"
    }
   ],
   "source": [
    "for layer in fc_model.layers:\n",
    "    layer.trainable = True\n",
    "\n",
    "opt = Adam(lr=0.000001)\n",
    "fc_model.compile(optimizer=opt, loss='categorical_crossentropy', metrics=['accuracy'])\n",
    "\n",
    "\n",
    "print(\"fine tuning the rescaled fc model...\")\n",
    "fc_model.fit(executor.train_precomputed, executor.train_labels, nb_epoch=2,\n",
    "               batch_size= executor.batch_size, validation_data=(executor.val_precomputed, executor.val_labels))    "
   ]
  },
  {
   "cell_type": "code",
   "execution_count": 40,
   "metadata": {
    "collapsed": true
   },
   "outputs": [],
   "source": [
    "fc_model.save_weights(\"fc_model_finetuned_val_loss_0_69.augmented.weights.bn.h5\")"
   ]
  },
  {
   "cell_type": "code",
   "execution_count": 41,
   "metadata": {
    "collapsed": true
   },
   "outputs": [],
   "source": [
    "for l1,l2 in zip(executor.vgg.model.layers[last_conv_idx+1:],fc_model.layers):\n",
    "    l1.set_weights(l2.get_weights())"
   ]
  },
  {
   "cell_type": "code",
   "execution_count": 42,
   "metadata": {
    "collapsed": false
   },
   "outputs": [
    {
     "name": "stdout",
     "output_type": "stream",
     "text": [
      "Found 512 images belonging to 1 classes.\n"
     ]
    },
    {
     "data": {
      "text/html": [
       "<a href='predictions.val_loss_0_69.bn.h5' target='_blank'>predictions.val_loss_0_69.bn.h5</a><br>"
      ],
      "text/plain": [
       "/home/ubuntu/kaggle_cervical_cancer_code/src/predictions.val_loss_0_69.bn.h5"
      ]
     },
     "execution_count": 42,
     "metadata": {},
     "output_type": "execute_result"
    }
   ],
   "source": [
    "executor.build_predictions_on_test_data().and_().save_predictions_to_file(\"predictions.val_loss_0_69.bn.h5\")"
   ]
  },
  {
   "cell_type": "code",
   "execution_count": 43,
   "metadata": {
    "collapsed": false
   },
   "outputs": [
    {
     "name": "stdout",
     "output_type": "stream",
     "text": [
      "fine tuning the rescaled fc model...\n",
      "Train on 6166 samples, validate on 1461 samples\n",
      "Epoch 1/5\n",
      "6166/6166 [==============================] - 8s - loss: 0.0906 - acc: 0.9906 - val_loss: 0.7166 - val_acc: 0.6920\n",
      "Epoch 2/5\n",
      "6166/6166 [==============================] - 8s - loss: 0.0353 - acc: 0.9985 - val_loss: 0.7125 - val_acc: 0.7091\n",
      "Epoch 3/5\n",
      "6166/6166 [==============================] - 9s - loss: 0.0183 - acc: 0.9994 - val_loss: 0.7195 - val_acc: 0.7146\n",
      "Epoch 4/5\n",
      "6166/6166 [==============================] - 8s - loss: 0.0121 - acc: 0.9995 - val_loss: 0.7491 - val_acc: 0.7098\n",
      "Epoch 5/5\n",
      "6166/6166 [==============================] - 9s - loss: 0.0088 - acc: 1.0000 - val_loss: 0.7634 - val_acc: 0.7118\n"
     ]
    },
    {
     "data": {
      "text/plain": [
       "<keras.callbacks.History at 0x7feb579a2a10>"
      ]
     },
     "execution_count": 43,
     "metadata": {},
     "output_type": "execute_result"
    }
   ],
   "source": [
    "opt = Adam(lr=0.00001)\n",
    "fc_model.compile(optimizer=opt, loss='categorical_crossentropy', metrics=['accuracy'])\n",
    "\n",
    "\n",
    "print(\"fine tuning the rescaled fc model...\")\n",
    "fc_model.fit(executor.train_precomputed, executor.train_labels, nb_epoch=5,\n",
    "               batch_size= executor.batch_size, validation_data=(executor.val_precomputed, executor.val_labels))    "
   ]
  },
  {
   "cell_type": "code",
   "execution_count": null,
   "metadata": {
    "collapsed": true
   },
   "outputs": [],
   "source": []
  }
 ],
 "metadata": {
  "anaconda-cloud": {},
  "kernelspec": {
   "display_name": "Python [conda root]",
   "language": "python",
   "name": "conda-root-py"
  },
  "language_info": {
   "codemirror_mode": {
    "name": "ipython",
    "version": 2
   },
   "file_extension": ".py",
   "mimetype": "text/x-python",
   "name": "python",
   "nbconvert_exporter": "python",
   "pygments_lexer": "ipython2",
   "version": "2.7.12"
  }
 },
 "nbformat": 4,
 "nbformat_minor": 1
}
