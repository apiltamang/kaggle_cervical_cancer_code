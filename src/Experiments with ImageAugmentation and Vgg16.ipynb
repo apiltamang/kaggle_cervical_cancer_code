{
 "cells": [
  {
   "cell_type": "code",
   "execution_count": 1,
   "metadata": {
    "collapsed": false
   },
   "outputs": [
    {
     "name": "stderr",
     "output_type": "stream",
     "text": [
      "Using Theano backend.\n",
      "Using gpu device 0: Tesla K80 (CNMeM is disabled, cuDNN 5103)\n",
      "/home/ubuntu/anaconda2/lib/python2.7/site-packages/theano/sandbox/cuda/__init__.py:600: UserWarning: Your cuDNN version is more recent than the one Theano officially supports. If you see any problems, try updating Theano or downgrading cuDNN to version 5.\n",
      "  warnings.warn(warn)\n"
     ]
    }
   ],
   "source": [
    "from Executor import *"
   ]
  },
  {
   "cell_type": "code",
   "execution_count": 2,
   "metadata": {
    "collapsed": false
   },
   "outputs": [
    {
     "name": "stdout",
     "output_type": "stream",
     "text": [
      "Pretrained Vgg16 model loaded.\n",
      "Found 6255 images belonging to 3 classes.\n",
      "Found 1549 images belonging to 3 classes.\n",
      "initialized training data from: ../data/full/train\n",
      "initialized validation data from: ../data/full/valid\n",
      "found number of softmax classes: 3\n"
     ]
    }
   ],
   "source": [
    "# Reset the model, and run same finetuning using precomputed conv. model outputs. See if they match...\n",
    "executor = ExecutorBuilder().\\\n",
    "    with_runID(\"data_aug\").\\\n",
    "    and_().\\\n",
    "    with_Vgg16().\\\n",
    "    and_().\\\n",
    "    train_batch_size(128). \\\n",
    "    and_(). \\\n",
    "    learn_rate(0.001).\\\n",
    "    and_().\\\n",
    "    data_on_path(\"../data/full/\").\\\n",
    "    build()"
   ]
  },
  {
   "cell_type": "code",
   "execution_count": 14,
   "metadata": {
    "collapsed": false
   },
   "outputs": [
    {
     "name": "stdout",
     "output_type": "stream",
     "text": [
      "Found 6255 images belonging to 3 classes.\n",
      "Epoch 1/2\n",
      "6255/6255 [==============================] - 205s - loss: 1.0672 - acc: 0.5768 - val_loss: 0.7112 - val_acc: 0.6934\n",
      "Epoch 2/2\n",
      "6255/6255 [==============================] - 205s - loss: 1.0127 - acc: 0.5661 - val_loss: 0.7151 - val_acc: 0.6856\n"
     ]
    },
    {
     "data": {
      "text/plain": [
       "<Executor.Executor instance at 0x7f5778366320>"
      ]
     },
     "execution_count": 14,
     "metadata": {},
     "output_type": "execute_result"
    }
   ],
   "source": [
    "executor.load_model_from_file(\"weights.first.h5\")\n",
    "executor.compile(learn_rate=0.001)\n",
    "\n",
    "for layer in executor.vgg.model.layers:\n",
    "    layer.trainable=False\n",
    "executor.vgg.model.layers[-1].trainable=True\n",
    "\n",
    "data_aug_generator = image.ImageDataGenerator(rotation_range=20, width_shift_range=0.1, height_shift_range=0.1,\n",
    "          shear_range=0.15, zoom_range=0.1, channel_shift_range=10, horizontal_flip=True, vertical_flip=True)\n",
    "\n",
    "executor.train_batches = executor.vgg.get_batches(executor.train_path, gen=data_aug_generator, batch_size=executor.batch_size)\n",
    "\n",
    "# gives a pretty decent result, with val_loss ending at 0.70, which is around what 'weights.frist.h5' settled at\n",
    "executor.train_for_epochs(2)"
   ]
  },
  {
   "cell_type": "code",
   "execution_count": 15,
   "metadata": {
    "collapsed": false
   },
   "outputs": [
    {
     "name": "stdout",
     "output_type": "stream",
     "text": [
      "Epoch 1/2\n",
      "6255/6255 [==============================] - 205s - loss: 1.0153 - acc: 0.5583 - val_loss: 0.7421 - val_acc: 0.6553\n",
      "Epoch 2/2\n",
      "6255/6255 [==============================] - 205s - loss: 1.0205 - acc: 0.5536 - val_loss: 0.7501 - val_acc: 0.6662\n"
     ]
    },
    {
     "data": {
      "text/plain": [
       "<Executor.Executor instance at 0x7f5778366320>"
      ]
     },
     "execution_count": 15,
     "metadata": {},
     "output_type": "execute_result"
    }
   ],
   "source": [
    "executor.train_for_epochs(2)"
   ]
  },
  {
   "cell_type": "code",
   "execution_count": 17,
   "metadata": {
    "collapsed": false
   },
   "outputs": [
    {
     "name": "stdout",
     "output_type": "stream",
     "text": [
      "('first dense layer at index: ', 33)\n",
      "all dense layers set trainable.\n"
     ]
    },
    {
     "data": {
      "text/plain": [
       "<Executor.Executor instance at 0x7f5778366320>"
      ]
     },
     "execution_count": 17,
     "metadata": {},
     "output_type": "execute_result"
    }
   ],
   "source": [
    "executor.make_linear_layers_trainable()\n",
    "executor.compile(learn_rate=0.00001)"
   ]
  },
  {
   "cell_type": "code",
   "execution_count": 18,
   "metadata": {
    "collapsed": false
   },
   "outputs": [
    {
     "name": "stdout",
     "output_type": "stream",
     "text": [
      "Epoch 1/3\n",
      "6255/6255 [==============================] - 211s - loss: 11.1814 - acc: 0.2978 - val_loss: 10.9674 - val_acc: 0.3196\n",
      "Epoch 2/3\n",
      "6255/6255 [==============================] - 210s - loss: 11.1551 - acc: 0.3079 - val_loss: 11.0610 - val_acc: 0.3138\n",
      "Epoch 3/3\n",
      "6255/6255 [==============================] - 211s - loss: 11.3226 - acc: 0.2975 - val_loss: 11.1963 - val_acc: 0.3054\n"
     ]
    },
    {
     "data": {
      "text/plain": [
       "<Executor.Executor instance at 0x7f5778366320>"
      ]
     },
     "execution_count": 18,
     "metadata": {},
     "output_type": "execute_result"
    }
   ],
   "source": [
    "executor.train_for_epochs(3)"
   ]
  },
  {
   "cell_type": "code",
   "execution_count": null,
   "metadata": {
    "collapsed": true
   },
   "outputs": [],
   "source": []
  }
 ],
 "metadata": {
  "anaconda-cloud": {},
  "kernelspec": {
   "display_name": "Python [conda root]",
   "language": "python",
   "name": "conda-root-py"
  },
  "language_info": {
   "codemirror_mode": {
    "name": "ipython",
    "version": 2
   },
   "file_extension": ".py",
   "mimetype": "text/x-python",
   "name": "python",
   "nbconvert_exporter": "python",
   "pygments_lexer": "ipython2",
   "version": "2.7.12"
  }
 },
 "nbformat": 4,
 "nbformat_minor": 1
}
