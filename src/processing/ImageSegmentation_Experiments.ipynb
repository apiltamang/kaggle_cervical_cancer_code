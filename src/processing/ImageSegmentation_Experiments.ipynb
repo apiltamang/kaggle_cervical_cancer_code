{
 "cells": [
  {
   "cell_type": "markdown",
   "metadata": {
    "deletable": true,
    "editable": true
   },
   "source": [
    "## Image Segmentation"
   ]
  },
  {
   "cell_type": "code",
   "execution_count": 1,
   "metadata": {
    "collapsed": true,
    "deletable": true,
    "editable": true
   },
   "outputs": [],
   "source": [
    "from sklearn import mixture\n",
    "from sklearn.utils import shuffle\n",
    "from skimage import measure\n",
    "import matplotlib.pyplot as plt\n",
    "import glob\n",
    "%matplotlib inline\n",
    "import cv2\n",
    "import sys\n",
    "\n",
    "from ImageSegmentation import *"
   ]
  },
  {
   "cell_type": "code",
   "execution_count": 2,
   "metadata": {
    "collapsed": true,
    "deletable": true,
    "editable": true
   },
   "outputs": [],
   "source": [
    "TRAIN_DATA = \"/Users/apil.tamang/kaggle_cervical_cancer_code/download/train\"\n",
    "ADD_DATA = \"/Users/apil.tamang/kaggle_cervical_cancer_code/download/additional\"\n",
    "SAVE_IMG_PATH = '/Users/apil.tamang/kaggle_cervical_cancer_code/segmented_src/train'\n",
    "VALID_DATA = '/Users/apil.tamang/kaggle_cervical_cancer_code/download/valid'"
   ]
  },
  {
   "cell_type": "code",
   "execution_count": 3,
   "metadata": {
    "collapsed": false,
    "deletable": true,
    "editable": true
   },
   "outputs": [],
   "source": [
    "def getType_1_2_3_ids(train_path):\n",
    "    print(\"looking for images in: \", train_path)\n",
    "    type_1_files = glob(os.path.join(train_path, \"Type_1\", \"*.jpg\"))\n",
    "    type_1_ids = np.array([s[len(os.path.join(train_path, \"Type_1\")) + 1:-4] for s in type_1_files])\n",
    "    type_2_files = glob(os.path.join(train_path, \"Type_2\", \"*.jpg\"))\n",
    "    type_2_ids = np.array([s[len(os.path.join(train_path, \"Type_2\")) + 1:-4] for s in type_2_files])\n",
    "    type_3_files = glob(os.path.join(train_path, \"Type_3\", \"*.jpg\"))\n",
    "    type_3_ids = np.array([s[len(os.path.join(train_path, \"Type_3\")) + 1:-4] for s in type_3_files])\n",
    "\n",
    "    # do this because Type_1 failed at around 75%\n",
    "#   type_1_ids = type_1_ids[890:]\n",
    "#   type_2_ids = type_2_ids[:5]\n",
    "#   type_3_ids = type_3_ids[:5]\n",
    "    \n",
    "    return type_1_ids, type_2_ids, type_3_ids\n",
    "\n",
    "def crop(img,y_min,y_max, x_min, x_max):\n",
    "    return img[y_min:y_max,x_min:x_max]\n",
    "\n",
    "def save_croppedImage(image_id, image_type, DATA_ROOT, img):\n",
    "    data_path = os.path.join(DATA_ROOT, image_type)\n",
    "    ext = 'jpg'\n",
    "    img_path = os.path.join(data_path, \"{}.{}\".format(image_id, ext))\n",
    "    cv2.imwrite(img_path, img)"
   ]
  },
  {
   "cell_type": "code",
   "execution_count": 9,
   "metadata": {
    "collapsed": false,
    "deletable": true,
    "editable": true
   },
   "outputs": [],
   "source": [
    "def process_image_and_save_segmented_data(train_path, SAVE_IMG_PATH, type_ids_list, image_type=\"TRAIN\"):\n",
    "    for k, type_ids in enumerate(type_ids_list):\n",
    "        m = len(type_ids)\n",
    "        train_ids = sorted(type_ids)\n",
    "        counter = 0\n",
    "\n",
    "        for i in range(m):\n",
    "            image_id = train_ids[counter]\n",
    "            try:\n",
    "                \n",
    "                counter += 1\n",
    "\n",
    "                if image_type==\"TRAIN\":\n",
    "                    img = get_image_data(image_id, 'Type_%i' % (k + 1), train_path)\n",
    "                else:\n",
    "                    img = get_image_data(image_id, 'unknown', train_path)\n",
    "\n",
    "                if img is None:\n",
    "                    continue\n",
    "                img = cropCircle(img)\n",
    "                img_copy = img.copy()\n",
    "\n",
    "                w = img.shape[0]\n",
    "                h = img.shape[1]\n",
    "\n",
    "                imgLab = cv2.cvtColor(img, cv2.COLOR_RGB2LAB);\n",
    "\n",
    "                # Saturating the a-channel at 150 helps avoiding wrong segmentation\n",
    "                # in the case of close-up cervix pictures where the bloody os is falsly segemented as the cervix.\n",
    "                Ra = Ra_space(img, 1.0, 150)\n",
    "                a_channel = np.reshape(Ra[:, 1], (w, h))\n",
    "                plt.subplot(121)\n",
    "                plt.imshow(a_channel)\n",
    "\n",
    "                g = mixture.GaussianMixture(n_components=2, covariance_type='diag', random_state=0, init_params='kmeans')\n",
    "                image_array_sample = shuffle(Ra, random_state=0)[:1000]\n",
    "                g.fit(image_array_sample)\n",
    "                labels = g.predict(Ra)\n",
    "                labels += 1  # Add 1 to avoid labeling as 0 since regionprops ignores the 0-label.\n",
    "\n",
    "                # The cluster that has the highest a-mean is selected.\n",
    "                labels_2D = np.reshape(labels, (w, h))\n",
    "                gg_labels_regions = measure.regionprops(labels_2D, intensity_image=a_channel)\n",
    "                gg_intensity = [prop.mean_intensity for prop in gg_labels_regions]\n",
    "                cervix_cluster = gg_intensity.index(max(gg_intensity)) + 1\n",
    "\n",
    "                mask = np.zeros((w * h, 1), 'uint8')\n",
    "                mask[labels == cervix_cluster] = 255\n",
    "                mask_2D = np.reshape(mask, (w, h))\n",
    "\n",
    "                cc_labels = measure.label(mask_2D, background=0)\n",
    "                regions = measure.regionprops(cc_labels)\n",
    "                areas = [prop.area for prop in regions]\n",
    "\n",
    "                regions_label = [prop.label for prop in regions]\n",
    "                largestCC_label = regions_label[areas.index(max(areas))]\n",
    "                mask_largestCC = np.zeros((w, h), 'uint8')\n",
    "                mask_largestCC[cc_labels == largestCC_label] = 255\n",
    "\n",
    "                img_masked = img.copy()\n",
    "                img_masked[mask_largestCC == 0] = (0, 0, 0)\n",
    "                img_masked_gray = cv2.cvtColor(img_masked, cv2.COLOR_RGB2GRAY);\n",
    "\n",
    "                _, thresh_mask = cv2.threshold(img_masked_gray, 0, 255, 0)\n",
    "\n",
    "                kernel = np.ones((11, 11), np.uint8)\n",
    "                thresh_mask = cv2.dilate(thresh_mask, kernel, iterations=1)\n",
    "                thresh_mask = cv2.erode(thresh_mask, kernel, iterations=2)\n",
    "                _, contours_mask, _ = cv2.findContours(thresh_mask.copy(), cv2.RETR_TREE, cv2.CHAIN_APPROX_NONE)\n",
    "\n",
    "                main_contour = sorted(contours_mask, key=cv2.contourArea, reverse=True)[0]\n",
    "\n",
    "                x, y, w, h = cv2.boundingRect(main_contour)\n",
    "\n",
    "                # comment out the drawing of the rectangle\n",
    "                # cv2.rectangle(img, (x, y), (x + w, y + h), 255, 2)\n",
    "                # plt.subplot(122)\n",
    "                # plt.imshow(img)\n",
    "                #plt.show()\n",
    "                img = crop(img_copy, y, y+h, x, x+w) \n",
    "                img = cv2.resize(img, dsize=(224, 224))\n",
    "\n",
    "                if image_type==\"TRAIN\":\n",
    "                    save_croppedImage(image_id, 'Type_%i' % (k + 1), SAVE_IMG_PATH, img)\n",
    "                else:\n",
    "                    save_croppedImage(image_id, 'unknown', SAVE_IMG_PATH, img)\n",
    "\n",
    "                frac = int(float(counter)/m * 100.),\" %\"\n",
    "                sys.stdout.write(\"progress: %s  \\r\" % (str(frac)))\n",
    "                sys.stdout.flush()\n",
    "            except:\n",
    "                print(\"error processing image: \", image_id, '. Type_%i' % (k + 1), \" on path: \", train_path )"
   ]
  },
  {
   "cell_type": "code",
   "execution_count": 5,
   "metadata": {
    "collapsed": false,
    "deletable": true,
    "editable": true
   },
   "outputs": [],
   "source": [
    "# process image in the train and add directory in download/\n",
    "# for train_path in [TRAIN_PATH, ADD_DATA]:\n",
    "#     print(\"data in: \", train_path)\n",
    "    \n",
    "#     all_type_ids = getType_1_2_3_ids(train_path)\n",
    "#     process_image_and_save_segmented_data(train_path, SAVE_IMG_PATH, all_type_ids)"
   ]
  },
  {
   "cell_type": "code",
   "execution_count": 10,
   "metadata": {
    "collapsed": false,
    "deletable": true,
    "editable": true
   },
   "outputs": [],
   "source": [
    "# process image in only the training set\n",
    "TEST_PATH = \"/Users/apil.tamang/kaggle_cervical_cancer_code/download/test\"\n",
    "test_files = glob(os.path.join(TEST_PATH, \"unknown\", \"*.jpg\"))\n",
    "test_ids = np.array([s[len(os.path.join(TEST_PATH, \"unknown\")) + 1:-4] for s in test_files])\n",
    "SAVE_TEST_IMG_PATH = '/Users/apil.tamang/kaggle_cervical_cancer_code/segmented_src/test'\n"
   ]
  },
  {
   "cell_type": "code",
   "execution_count": 11,
   "metadata": {
    "collapsed": false,
    "deletable": true,
    "editable": true
   },
   "outputs": [
    {
     "name": "stdout",
     "output_type": "stream",
     "text": [
      "progress: (100, ' %')  \r"
     ]
    },
    {
     "data": {
      "image/png": "[encoded data removed]",
      "text/plain": [
       "<matplotlib.figure.Figure at 0x1111fc250>"
      ]
     },
     "metadata": {},
     "output_type": "display_data"
    }
   ],
   "source": [
    "process_image_and_save_segmented_data(TEST_PATH, SAVE_TEST_IMG_PATH, [test_ids], image_type=\"TEST\")"
   ]
  },
  {
   "cell_type": "code",
   "execution_count": null,
   "metadata": {
    "collapsed": true,
    "deletable": true,
    "editable": true
   },
   "outputs": [],
   "source": []
  }
 ],
 "metadata": {
  "kernelspec": {
   "display_name": "Python 2",
   "language": "python",
   "name": "python2"
  },
  "language_info": {
   "codemirror_mode": {
    "name": "ipython",
    "version": 2
   },
   "file_extension": ".py",
   "mimetype": "text/x-python",
   "name": "python",
   "nbconvert_exporter": "python",
   "pygments_lexer": "ipython2",
   "version": "2.7.13"
  }
 },
 "nbformat": 4,
 "nbformat_minor": 2
}
