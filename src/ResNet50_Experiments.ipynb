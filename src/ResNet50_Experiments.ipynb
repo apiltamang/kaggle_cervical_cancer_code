{
 "cells": [
  {
   "cell_type": "code",
   "execution_count": 1,
   "metadata": {
    "collapsed": true
   },
   "outputs": [],
   "source": [
    "conf = dict()\n",
    "\n",
    "# How many patients will be in train and validation set during training. Range: (0; 1)\n",
    "conf['train_valid_fraction'] = 0.8\n",
    "\n",
    "# Batch size for CNN [Depends on GPU and memory available]\n",
    "conf['batch_size'] = 32\n",
    "\n",
    "# Number of epochs for CNN training\n",
    "#conf['nb_epoch'] = 200\n",
    "conf['nb_epoch'] = 10\n",
    "\n",
    "# Early stopping. Stop training after epochs without improving on validation\n",
    "conf['patience'] = 3\n",
    "\n",
    "# Shape of image for CNN (Larger the better, but you need to increase CNN as well)\n",
    "#conf['image_shape'] = (4160,4128)\n",
    "#conf['image_shape'] = (2080,2064)\n",
    "#conf['image_shape'] = (1024,1024)\n",
    "conf['image_shape'] = (192,192)\n",
    "\n",
    "conf['data_augmentation'] = False"
   ]
  },
  {
   "cell_type": "code",
   "execution_count": 2,
   "metadata": {
    "collapsed": false,
    "deletable": true,
    "editable": true
   },
   "outputs": [
    {
     "name": "stderr",
     "output_type": "stream",
     "text": [
      "Using Theano backend.\n",
      "WARNING (theano.sandbox.cuda): The cuda backend is deprecated and will be removed in the next release (v0.10).  Please switch to the gpuarray backend. You can get more information about how to switch at this URL:\n",
      " https://github.com/Theano/Theano/wiki/Converting-to-the-new-gpu-back-end%28gpuarray%29\n",
      "\n",
      "Using gpu device 0: Tesla K80 (CNMeM is disabled, cuDNN 5103)\n"
     ]
    }
   ],
   "source": [
    "'''ResNet50 model for Keras.\n",
    "# Reference:\n",
    "- [Deep Residual Learning for Image Recognition](https://arxiv.org/abs/1512.03385)\n",
    "Adapted from code contributed by BigMoyan.\n",
    "'''\n",
    "from __future__ import print_function\n",
    "\n",
    "import numpy as np\n",
    "import warnings\n",
    "\n",
    "from keras.layers import Input\n",
    "from keras import layers\n",
    "from keras.layers import Dense\n",
    "from keras.layers import Activation\n",
    "from keras.layers import Flatten\n",
    "from keras.layers import Conv2D\n",
    "from keras.layers import MaxPooling2D\n",
    "from keras.layers import GlobalMaxPooling2D\n",
    "from keras.layers import ZeroPadding2D\n",
    "from keras.layers import AveragePooling2D\n",
    "from keras.layers import GlobalAveragePooling2D\n",
    "from keras.layers import BatchNormalization\n",
    "from keras.models import Model, Sequential\n",
    "from keras.preprocessing import image\n",
    "import keras.backend as K\n",
    "from keras.utils import layer_utils\n",
    "from keras.utils.data_utils import get_file\n",
    "from keras.applications.imagenet_utils import decode_predictions, _obtain_input_shape\n",
    "from keras.applications.imagenet_utils import preprocess_input\n",
    "from keras.engine.topology import get_source_inputs\n",
    "import os, sys\n",
    "\n",
    "WEIGHTS_PATH = 'https://github.com/fchollet/deep-learning-models/releases/download/v0.2/resnet50_weights_tf_dim_ordering_tf_kernels.h5'\n",
    "WEIGHTS_PATH_NO_TOP = 'https://github.com/fchollet/deep-learning-models/releases/download/v0.2/resnet50_weights_tf_dim_ordering_tf_kernels_notop.h5'\n",
    "\n",
    "class ResNet50():\n",
    "\n",
    "    def __init__(self):\n",
    "        self.model = self.getResNet50()\n",
    "\n",
    "    def identity_block(self, input_tensor, kernel_size, filters, stage, block):\n",
    "        \"\"\"The identity block is the block that has no conv layer at shortcut.\n",
    "        # Arguments\n",
    "            input_tensor: input tensor\n",
    "            kernel_size: defualt 3, the kernel size of middle conv layer at main path\n",
    "            filters: list of integers, the filterss of 3 conv layer at main path\n",
    "            stage: integer, current stage label, used for generating layer names\n",
    "            block: 'a','b'..., current block label, used for generating layer names\n",
    "        # Returns\n",
    "            Output tensor for the block.\n",
    "        \"\"\"\n",
    "        filters1, filters2, filters3 = filters\n",
    "        if K.image_data_format() == 'channels_last':\n",
    "            bn_axis = 3\n",
    "        else:\n",
    "            bn_axis = 1\n",
    "        conv_name_base = 'res' + str(stage) + block + '_branch'\n",
    "        bn_name_base = 'bn' + str(stage) + block + '_branch'\n",
    "\n",
    "        x = Conv2D(filters1, (1, 1), name=conv_name_base + '2a')(input_tensor)\n",
    "        x = BatchNormalization(axis=bn_axis, name=bn_name_base + '2a')(x)\n",
    "        x = Activation('relu')(x)\n",
    "\n",
    "        x = Conv2D(filters2, kernel_size,\n",
    "                   padding='same', name=conv_name_base + '2b')(x)\n",
    "        x = BatchNormalization(axis=bn_axis, name=bn_name_base + '2b')(x)\n",
    "        x = Activation('relu')(x)\n",
    "\n",
    "        x = Conv2D(filters3, (1, 1), name=conv_name_base + '2c')(x)\n",
    "        x = BatchNormalization(axis=bn_axis, name=bn_name_base + '2c')(x)\n",
    "\n",
    "        x = layers.add([x, input_tensor])\n",
    "        x = Activation('relu')(x)\n",
    "        return x\n",
    "\n",
    "\n",
    "    def conv_block(self, input_tensor, kernel_size, filters, stage, block, strides=(2, 2)):\n",
    "        \"\"\"conv_block is the block that has a conv layer at shortcut\n",
    "        # Arguments\n",
    "            input_tensor: input tensor\n",
    "            kernel_size: defualt 3, the kernel size of middle conv layer at main path\n",
    "            filters: list of integers, the filterss of 3 conv layer at main path\n",
    "            stage: integer, current stage label, used for generating layer names\n",
    "            block: 'a','b'..., current block label, used for generating layer names\n",
    "        # Returns\n",
    "            Output tensor for the block.\n",
    "        Note that from stage 3, the first conv layer at main path is with strides=(2,2)\n",
    "        And the shortcut should have strides=(2,2) as well\n",
    "        \"\"\"\n",
    "        filters1, filters2, filters3 = filters\n",
    "        if K.image_data_format() == 'channels_last':\n",
    "            bn_axis = 3\n",
    "        else:\n",
    "            bn_axis = 1\n",
    "        conv_name_base = 'res' + str(stage) + block + '_branch'\n",
    "        bn_name_base = 'bn' + str(stage) + block + '_branch'\n",
    "\n",
    "        x = Conv2D(filters1, (1, 1), strides=strides,\n",
    "                   name=conv_name_base + '2a')(input_tensor)\n",
    "        x = BatchNormalization(axis=bn_axis, name=bn_name_base + '2a')(x)\n",
    "        x = Activation('relu')(x)\n",
    "\n",
    "        x = Conv2D(filters2, kernel_size, padding='same',\n",
    "                   name=conv_name_base + '2b')(x)\n",
    "        x = BatchNormalization(axis=bn_axis, name=bn_name_base + '2b')(x)\n",
    "        x = Activation('relu')(x)\n",
    "\n",
    "        x = Conv2D(filters3, (1, 1), name=conv_name_base + '2c')(x)\n",
    "        x = BatchNormalization(axis=bn_axis, name=bn_name_base + '2c')(x)\n",
    "\n",
    "        shortcut = Conv2D(filters3, (1, 1), strides=strides,\n",
    "                          name=conv_name_base + '1')(input_tensor)\n",
    "        shortcut = BatchNormalization(axis=bn_axis, name=bn_name_base + '1')(shortcut)\n",
    "\n",
    "        x = layers.add([x, shortcut])\n",
    "        x = Activation('relu')(x)\n",
    "        return x\n",
    "\n",
    "    def getResNet50(self, include_top=True, weights='imagenet',\n",
    "                 input_tensor=None, input_shape=None,\n",
    "                 pooling=None,\n",
    "                 classes=1000):\n",
    "        \"\"\"Instantiates the ResNet50 architecture.\n",
    "        Optionally loads weights pre-trained\n",
    "        on ImageNet. Note that when using TensorFlow,\n",
    "        for best performance you should set\n",
    "        `image_data_format=\"channels_last\"` in your Keras config\n",
    "        at ~/.keras/keras.json.\n",
    "        The model and the weights are compatible with both\n",
    "        TensorFlow and Theano. The data format\n",
    "        convention used by the model is the one\n",
    "        specified in your Keras config file.\n",
    "        # Arguments\n",
    "            include_top: whether to include the fully-connected\n",
    "                layer at the top of the network.\n",
    "            weights: one of `None` (random initialization)\n",
    "                or \"imagenet\" (pre-training on ImageNet).\n",
    "            input_tensor: optional Keras tensor (i.e. output of `layers.Input()`)\n",
    "                to use as image input for the model.\n",
    "            input_shape: optional shape tuple, only to be specified\n",
    "                if `include_top` is False (otherwise the input shape\n",
    "                has to be `(224, 224, 3)` (with `channels_last` data format)\n",
    "                or `(3, 224, 244)` (with `channels_first` data format).\n",
    "                It should have exactly 3 inputs channels,\n",
    "                and width and height should be no smaller than 197.\n",
    "                E.g. `(200, 200, 3)` would be one valid value.\n",
    "            pooling: Optional pooling mode for feature extraction\n",
    "                when `include_top` is `False`.\n",
    "                - `None` means that the output of the model will be\n",
    "                    the 4D tensor output of the\n",
    "                    last convolutional layer.\n",
    "                - `avg` means that global average pooling\n",
    "                    will be applied to the output of the\n",
    "                    last convolutional layer, and thus\n",
    "                    the output of the model will be a 2D tensor.\n",
    "                - `max` means that global max pooling will\n",
    "                    be applied.\n",
    "            classes: optional number of classes to classify images\n",
    "                into, only to be specified if `include_top` is True, and\n",
    "                if no `weights` argument is specified.\n",
    "        # Returns\n",
    "            A Keras model instance.\n",
    "        # Raises\n",
    "            ValueError: in case of invalid argument for `weights`,\n",
    "                or invalid input shape.\n",
    "        \"\"\"\n",
    "        if weights not in {'imagenet', None}:\n",
    "            raise ValueError('The `weights` argument should be either '\n",
    "                             '`None` (random initialization) or `imagenet` '\n",
    "                             '(pre-training on ImageNet).')\n",
    "\n",
    "        if weights == 'imagenet' and include_top and classes != 1000:\n",
    "            raise ValueError('If using `weights` as imagenet with `include_top`'\n",
    "                             ' as true, `classes` should be 1000')\n",
    "\n",
    "        # Determine proper input shape\n",
    "        input_shape = _obtain_input_shape(input_shape,\n",
    "                                          default_size=224,\n",
    "                                          min_size=197,\n",
    "                                          data_format=K.image_data_format(),\n",
    "                                          include_top=include_top)\n",
    "\n",
    "        if input_tensor is None:\n",
    "            img_input = Input(shape=input_shape)\n",
    "        else:\n",
    "            if not K.is_keras_tensor(input_tensor):\n",
    "                img_input = Input(tensor=input_tensor, shape=input_shape)\n",
    "            else:\n",
    "                img_input = input_tensor\n",
    "        if K.image_data_format() == 'channels_last':\n",
    "            bn_axis = 3\n",
    "        else:\n",
    "            bn_axis = 1\n",
    "\n",
    "        x = ZeroPadding2D((3, 3))(img_input)\n",
    "        x = Conv2D(64, (7, 7), strides=(2, 2), name='conv1')(x)\n",
    "        x = BatchNormalization(axis=bn_axis, name='bn_conv1')(x)\n",
    "        x = Activation('relu')(x)\n",
    "        x = MaxPooling2D((3, 3), strides=(2, 2))(x)\n",
    "\n",
    "        x = self.conv_block(x, 3, [64, 64, 256], stage=2, block='a', strides=(1, 1))\n",
    "        x = self.identity_block(x, 3, [64, 64, 256], stage=2, block='b')\n",
    "        x = self.identity_block(x, 3, [64, 64, 256], stage=2, block='c')\n",
    "\n",
    "        x = self.conv_block(x, 3, [128, 128, 512], stage=3, block='a')\n",
    "        x = self.identity_block(x, 3, [128, 128, 512], stage=3, block='b')\n",
    "        x = self.identity_block(x, 3, [128, 128, 512], stage=3, block='c')\n",
    "        x = self.identity_block(x, 3, [128, 128, 512], stage=3, block='d')\n",
    "\n",
    "        x = self.conv_block(x, 3, [256, 256, 1024], stage=4, block='a')\n",
    "        x = self.identity_block(x, 3, [256, 256, 1024], stage=4, block='b')\n",
    "        x = self.identity_block(x, 3, [256, 256, 1024], stage=4, block='c')\n",
    "        x = self.identity_block(x, 3, [256, 256, 1024], stage=4, block='d')\n",
    "        x = self.identity_block(x, 3, [256, 256, 1024], stage=4, block='e')\n",
    "        x = self.identity_block(x, 3, [256, 256, 1024], stage=4, block='f')\n",
    "\n",
    "        x = self.conv_block(x, 3, [512, 512, 2048], stage=5, block='a')\n",
    "        x = self.identity_block(x, 3, [512, 512, 2048], stage=5, block='b')\n",
    "        x = self.identity_block(x, 3, [512, 512, 2048], stage=5, block='c')\n",
    "\n",
    "        x = AveragePooling2D((7, 7), name='avg_pool')(x)\n",
    "\n",
    "        if include_top:\n",
    "            x = Flatten()(x)\n",
    "            x = Dense(classes, activation='softmax', name='fc1000')(x)\n",
    "        else:\n",
    "            if pooling == 'avg':\n",
    "                x = GlobalAveragePooling2D()(x)\n",
    "            elif pooling == 'max':\n",
    "                x = GlobalMaxPooling2D()(x)\n",
    "\n",
    "        # Ensure that the model takes into account\n",
    "        # any potential predecessors of `input_tensor`.\n",
    "        if input_tensor is not None:\n",
    "            inputs = get_source_inputs(input_tensor)\n",
    "        else:\n",
    "            inputs = img_input\n",
    "        # Create model.\n",
    "        model = Model(inputs, x, name='resnet50')\n",
    "\n",
    "        # load weights\n",
    "        if weights == 'imagenet':\n",
    "            if include_top:\n",
    "                weights_path = get_file('resnet50_weights_tf_dim_ordering_tf_kernels.h5',\n",
    "                                        WEIGHTS_PATH,\n",
    "                                        cache_subdir='models',\n",
    "                                        md5_hash='a7b3fe01876f51b976af0dea6bc144eb')\n",
    "            else:\n",
    "                weights_path = get_file('resnet50_weights_tf_dim_ordering_tf_kernels_notop.h5',\n",
    "                                        WEIGHTS_PATH_NO_TOP,\n",
    "                                        cache_subdir='models',\n",
    "                                        md5_hash='a268eb855778b3df3c7506639542a6af')\n",
    "            model.load_weights(weights_path)\n",
    "            if K.backend() == 'theano':\n",
    "                layer_utils.convert_all_kernels_in_model(model)\n",
    "\n",
    "            if K.image_data_format() == 'channels_first':\n",
    "                if include_top:\n",
    "                    maxpool = model.get_layer(name='avg_pool')\n",
    "                    shape = maxpool.output_shape[1:]\n",
    "                    dense = model.get_layer(name='fc1000')\n",
    "                    layer_utils.convert_dense_weights_data_format(dense, shape, 'channels_first')\n",
    "\n",
    "                if K.backend() == 'tensorflow':\n",
    "                    warnings.warn('You are using the TensorFlow backend, yet you '\n",
    "                                  'are using the Theano '\n",
    "                                  'image data format convention '\n",
    "                                  '(`image_data_format=\"channels_first\"`). '\n",
    "                                  'For best performance, set '\n",
    "                                  '`image_data_format=\"channels_last\"` in '\n",
    "                                  'your Keras config '\n",
    "                                  'at ~/.keras/keras.json.')\n",
    "        return model"
   ]
  },
  {
   "cell_type": "code",
   "execution_count": 3,
   "metadata": {
    "collapsed": false,
    "deletable": true,
    "editable": true
   },
   "outputs": [],
   "source": [
    "resnet = ResNet50()"
   ]
  },
  {
   "cell_type": "markdown",
   "metadata": {},
   "source": [
    "## Replace the final layer with a custom softmax"
   ]
  },
  {
   "cell_type": "code",
   "execution_count": 4,
   "metadata": {
    "collapsed": true
   },
   "outputs": [],
   "source": [
    "def replace_with_custom_softmax(resnet):\n",
    "    resnet.model.layers.pop()\n",
    "    new_softmax = Dense(3, activation='softmax', name='new_softmax')\n",
    "    inp = resnet.model.input\n",
    "    out = new_softmax(resnet.model.layers[-1].output)\n",
    "    model2 = Model(inp,out)\n",
    "    \n",
    "    return model2\n"
   ]
  },
  {
   "cell_type": "code",
   "execution_count": 6,
   "metadata": {
    "collapsed": false
   },
   "outputs": [],
   "source": [
    "from os.path import join\n",
    "# file paths to training and validation samples\n",
    "\n",
    "gFilesBase = \"../data/segmented\"\n",
    "filepaths = []\n",
    "filepaths.append( join(gFilesBase, \"train/Type_1/\") )\n",
    "filepaths.append( join(gFilesBase, \"train/Type_2/\") )\n",
    "filepaths.append( join(gFilesBase, \"train/Type_3/\") )\n",
    "\n",
    "filepaths.append( join(gFilesBase, \"valid/Type_1/\") )\n",
    "filepaths.append( join(gFilesBase, \"valid/Type_2/\") )\n",
    "filepaths.append( join(gFilesBase, \"valid/Type_3/\") )"
   ]
  },
  {
   "cell_type": "code",
   "execution_count": 7,
   "metadata": {
    "collapsed": false
   },
   "outputs": [
    {
     "name": "stdout",
     "output_type": "stream",
     "text": [
      "7627\n"
     ]
    }
   ],
   "source": [
    "# Get list of all the training images\n",
    "import glob\n",
    "allFiles = []\n",
    "\n",
    "for i, filepath in enumerate(filepaths):\n",
    "    files = glob.glob(filepath + '*.jpg')\n",
    "    allFiles = allFiles + files\n",
    "\n",
    "print(len(allFiles))"
   ]
  },
  {
   "cell_type": "markdown",
   "metadata": {},
   "source": [
    "### Create training and validation list by splitting data based on specified *train_valid_fraction*"
   ]
  },
  {
   "cell_type": "code",
   "execution_count": 8,
   "metadata": {
    "collapsed": false
   },
   "outputs": [
    {
     "name": "stdout",
     "output_type": "stream",
     "text": [
      "Train patients: 6102\n",
      "Valid patients: 1525\n"
     ]
    }
   ],
   "source": [
    "import random\n",
    "split_point = int(round(conf['train_valid_fraction']*len(allFiles)))\n",
    "\n",
    "random.shuffle(allFiles)\n",
    "\n",
    "train_list = allFiles[:split_point]\n",
    "valid_list = allFiles[split_point:]\n",
    "print('Train patients: {}'.format(len(train_list)))\n",
    "print('Valid patients: {}'.format(len(valid_list)))"
   ]
  },
  {
   "cell_type": "code",
   "execution_count": 9,
   "metadata": {
    "collapsed": true
   },
   "outputs": [],
   "source": [
    "import cv2\n",
    "import numpy as np"
   ]
  },
  {
   "cell_type": "code",
   "execution_count": 10,
   "metadata": {
    "collapsed": false
   },
   "outputs": [],
   "source": [
    "\n",
    "def batch_generator_train2(files):\n",
    "    random.shuffle(files)\n",
    "    image_list = []\n",
    "    mask_list = []\n",
    "    for f in files:\n",
    "        image = cv2.imread(f)\n",
    "\n",
    "        #commenting this out, because the shape of the\n",
    "        #image is already set to desired (224x224)\n",
    "        #image = cv2.resize(image, conf['image_shape'])\n",
    "\n",
    "        if \"Type_1\" in f:\n",
    "            mask = [1, 0, 0]\n",
    "        elif \"Type_2\" in f:\n",
    "            mask = [0, 1, 0]\n",
    "        elif \"Type_3\" in f:\n",
    "            mask = [0, 0, 1]\n",
    "        else:\n",
    "            raise RuntimeError(\"Bad file name, couldn't determine cancer type\")\n",
    "\n",
    "        image_list.append(image)\n",
    "        mask_list.append(mask)\n",
    "\n",
    "    image_list = np.array(image_list)\n",
    "    mask_list = np.array(mask_list)\n",
    "    return (image_list, mask_list)\n",
    "\n",
    "def GetDataFromFileLists(trainList, validList):\n",
    "    (X_train, Y_train) = batch_generator_train2(trainList)\n",
    "    (X_valid, Y_valid) = batch_generator_train2(validList)\n",
    "    return (X_train, Y_train), (X_valid, Y_valid)\n",
    "            \n",
    "           \n",
    "(X_train, Y_train), (X_valid, Y_valid) = GetDataFromFileLists(train_list, valid_list)"
   ]
  },
  {
   "cell_type": "markdown",
   "metadata": {
    "collapsed": true
   },
   "source": [
    "## Testing model generator"
   ]
  },
  {
   "cell_type": "code",
   "execution_count": 11,
   "metadata": {
    "collapsed": true
   },
   "outputs": [],
   "source": [
    "from keras.callbacks import EarlyStopping, ModelCheckpoint\n",
    "from keras.callbacks import ReduceLROnPlateau, CSVLogger, EarlyStopping"
   ]
  },
  {
   "cell_type": "code",
   "execution_count": 12,
   "metadata": {
    "collapsed": false
   },
   "outputs": [
    {
     "name": "stdout",
     "output_type": "stream",
     "text": [
      "Create and compile model...\n"
     ]
    }
   ],
   "source": [
    "print('Create and compile model...')\n",
    "\n",
    "nb_classes = 3\n",
    "img_rows, img_cols = conf['image_shape'][1], conf['image_shape'][0]\n",
    "img_channels = 3\n",
    "\n",
    "model = replace_with_custom_softmax(resnet)\n",
    "model.compile(loss='categorical_crossentropy', optimizer='adam', metrics=['accuracy'])\n",
    "\n",
    "callbacks = [\n",
    "    EarlyStopping(monitor='val_loss', patience=conf['patience'], verbose=1),\n",
    "]"
   ]
  },
  {
   "cell_type": "code",
   "execution_count": 13,
   "metadata": {
    "collapsed": false
   },
   "outputs": [],
   "source": [
    "lr_reducer = ReduceLROnPlateau(factor=np.sqrt(0.1), cooldown=0, patience=5, min_lr=0.5e-6)\n",
    "early_stopper = EarlyStopping(min_delta=0.00001, patience=10)\n",
    "csv_logger = CSVLogger('resnet50_log.csv')"
   ]
  },
  {
   "cell_type": "code",
   "execution_count": null,
   "metadata": {
    "collapsed": true
   },
   "outputs": [],
   "source": [
    "# Uncomment the following, if\n",
    "# you'd like to train only the\n",
    "# last softmax layer\n",
    "\n",
    "# for layer in model2.layers:\n",
    "#     layer.trainable = False\n",
    "\n",
    "# model2.layers[-1].trainable=True\n"
   ]
  },
  {
   "cell_type": "code",
   "execution_count": 14,
   "metadata": {
    "collapsed": false
   },
   "outputs": [
    {
     "name": "stdout",
     "output_type": "stream",
     "text": [
      "Fitting model...\n",
      "Not using data augmentation.\n"
     ]
    },
    {
     "name": "stderr",
     "output_type": "stream",
     "text": [
      "/home/ubuntu/anaconda2/lib/python2.7/site-packages/ipykernel/__main__.py:14: UserWarning: The `nb_epoch` argument in `fit` has been renamed `epochs`.\n"
     ]
    },
    {
     "name": "stdout",
     "output_type": "stream",
     "text": [
      "Train on 6102 samples, validate on 1525 samples\n",
      "Epoch 1/5\n",
      "1225s - loss: 1.2951 - acc: 0.5021 - val_loss: 1.7700 - val_acc: 0.4964\n",
      "Epoch 2/5\n",
      "1225s - loss: 1.0586 - acc: 0.5048 - val_loss: 1.0353 - val_acc: 0.5023\n",
      "Epoch 3/5\n"
     ]
    },
    {
     "ename": "KeyboardInterrupt",
     "evalue": "",
     "output_type": "error",
     "traceback": [
      "\u001b[0;31m---------------------------------------------------------------------------\u001b[0m",
      "\u001b[0;31mKeyboardInterrupt\u001b[0m                         Traceback (most recent call last)",
      "\u001b[0;32m<ipython-input-14-362530077003>\u001b[0m in \u001b[0;36m<module>\u001b[0;34m()\u001b[0m\n\u001b[1;32m     12\u001b[0m               \u001b[0mshuffle\u001b[0m\u001b[0;34m=\u001b[0m\u001b[0mTrue\u001b[0m\u001b[0;34m,\u001b[0m\u001b[0;34m\u001b[0m\u001b[0m\n\u001b[1;32m     13\u001b[0m               \u001b[0mverbose\u001b[0m\u001b[0;34m=\u001b[0m\u001b[0;36m2\u001b[0m\u001b[0;34m,\u001b[0m\u001b[0;34m\u001b[0m\u001b[0m\n\u001b[0;32m---> 14\u001b[0;31m               callbacks=[lr_reducer, early_stopper, csv_logger])\n\u001b[0m\u001b[1;32m     15\u001b[0m \u001b[0;32melse\u001b[0m\u001b[0;34m:\u001b[0m\u001b[0;34m\u001b[0m\u001b[0m\n\u001b[1;32m     16\u001b[0m     \u001b[0;32mprint\u001b[0m\u001b[0;34m(\u001b[0m\u001b[0;34m'Using real-time data augmentation.'\u001b[0m\u001b[0;34m)\u001b[0m\u001b[0;34m\u001b[0m\u001b[0m\n",
      "\u001b[0;32m/home/ubuntu/anaconda2/lib/python2.7/site-packages/keras/engine/training.pyc\u001b[0m in \u001b[0;36mfit\u001b[0;34m(self, x, y, batch_size, epochs, verbose, callbacks, validation_split, validation_data, shuffle, class_weight, sample_weight, initial_epoch, **kwargs)\u001b[0m\n\u001b[1;32m   1496\u001b[0m                               \u001b[0mval_f\u001b[0m\u001b[0;34m=\u001b[0m\u001b[0mval_f\u001b[0m\u001b[0;34m,\u001b[0m \u001b[0mval_ins\u001b[0m\u001b[0;34m=\u001b[0m\u001b[0mval_ins\u001b[0m\u001b[0;34m,\u001b[0m \u001b[0mshuffle\u001b[0m\u001b[0;34m=\u001b[0m\u001b[0mshuffle\u001b[0m\u001b[0;34m,\u001b[0m\u001b[0;34m\u001b[0m\u001b[0m\n\u001b[1;32m   1497\u001b[0m                               \u001b[0mcallback_metrics\u001b[0m\u001b[0;34m=\u001b[0m\u001b[0mcallback_metrics\u001b[0m\u001b[0;34m,\u001b[0m\u001b[0;34m\u001b[0m\u001b[0m\n\u001b[0;32m-> 1498\u001b[0;31m                               initial_epoch=initial_epoch)\n\u001b[0m\u001b[1;32m   1499\u001b[0m \u001b[0;34m\u001b[0m\u001b[0m\n\u001b[1;32m   1500\u001b[0m     \u001b[0;32mdef\u001b[0m \u001b[0mevaluate\u001b[0m\u001b[0;34m(\u001b[0m\u001b[0mself\u001b[0m\u001b[0;34m,\u001b[0m \u001b[0mx\u001b[0m\u001b[0;34m,\u001b[0m \u001b[0my\u001b[0m\u001b[0;34m,\u001b[0m \u001b[0mbatch_size\u001b[0m\u001b[0;34m=\u001b[0m\u001b[0;36m32\u001b[0m\u001b[0;34m,\u001b[0m \u001b[0mverbose\u001b[0m\u001b[0;34m=\u001b[0m\u001b[0;36m1\u001b[0m\u001b[0;34m,\u001b[0m \u001b[0msample_weight\u001b[0m\u001b[0;34m=\u001b[0m\u001b[0mNone\u001b[0m\u001b[0;34m)\u001b[0m\u001b[0;34m:\u001b[0m\u001b[0;34m\u001b[0m\u001b[0m\n",
      "\u001b[0;32m/home/ubuntu/anaconda2/lib/python2.7/site-packages/keras/engine/training.pyc\u001b[0m in \u001b[0;36m_fit_loop\u001b[0;34m(self, f, ins, out_labels, batch_size, epochs, verbose, callbacks, val_f, val_ins, shuffle, callback_metrics, initial_epoch)\u001b[0m\n\u001b[1;32m   1150\u001b[0m                 \u001b[0mbatch_logs\u001b[0m\u001b[0;34m[\u001b[0m\u001b[0;34m'size'\u001b[0m\u001b[0;34m]\u001b[0m \u001b[0;34m=\u001b[0m \u001b[0mlen\u001b[0m\u001b[0;34m(\u001b[0m\u001b[0mbatch_ids\u001b[0m\u001b[0;34m)\u001b[0m\u001b[0;34m\u001b[0m\u001b[0m\n\u001b[1;32m   1151\u001b[0m                 \u001b[0mcallbacks\u001b[0m\u001b[0;34m.\u001b[0m\u001b[0mon_batch_begin\u001b[0m\u001b[0;34m(\u001b[0m\u001b[0mbatch_index\u001b[0m\u001b[0;34m,\u001b[0m \u001b[0mbatch_logs\u001b[0m\u001b[0;34m)\u001b[0m\u001b[0;34m\u001b[0m\u001b[0m\n\u001b[0;32m-> 1152\u001b[0;31m                 \u001b[0mouts\u001b[0m \u001b[0;34m=\u001b[0m \u001b[0mf\u001b[0m\u001b[0;34m(\u001b[0m\u001b[0mins_batch\u001b[0m\u001b[0;34m)\u001b[0m\u001b[0;34m\u001b[0m\u001b[0m\n\u001b[0m\u001b[1;32m   1153\u001b[0m                 \u001b[0;32mif\u001b[0m \u001b[0;32mnot\u001b[0m \u001b[0misinstance\u001b[0m\u001b[0;34m(\u001b[0m\u001b[0mouts\u001b[0m\u001b[0;34m,\u001b[0m \u001b[0mlist\u001b[0m\u001b[0;34m)\u001b[0m\u001b[0;34m:\u001b[0m\u001b[0;34m\u001b[0m\u001b[0m\n\u001b[1;32m   1154\u001b[0m                     \u001b[0mouts\u001b[0m \u001b[0;34m=\u001b[0m \u001b[0;34m[\u001b[0m\u001b[0mouts\u001b[0m\u001b[0;34m]\u001b[0m\u001b[0;34m\u001b[0m\u001b[0m\n",
      "\u001b[0;32m/home/ubuntu/anaconda2/lib/python2.7/site-packages/keras/backend/theano_backend.pyc\u001b[0m in \u001b[0;36m__call__\u001b[0;34m(self, inputs)\u001b[0m\n\u001b[1;32m   1156\u001b[0m     \u001b[0;32mdef\u001b[0m \u001b[0m__call__\u001b[0m\u001b[0;34m(\u001b[0m\u001b[0mself\u001b[0m\u001b[0;34m,\u001b[0m \u001b[0minputs\u001b[0m\u001b[0;34m)\u001b[0m\u001b[0;34m:\u001b[0m\u001b[0;34m\u001b[0m\u001b[0m\n\u001b[1;32m   1157\u001b[0m         \u001b[0;32massert\u001b[0m \u001b[0misinstance\u001b[0m\u001b[0;34m(\u001b[0m\u001b[0minputs\u001b[0m\u001b[0;34m,\u001b[0m \u001b[0;34m(\u001b[0m\u001b[0mlist\u001b[0m\u001b[0;34m,\u001b[0m \u001b[0mtuple\u001b[0m\u001b[0;34m)\u001b[0m\u001b[0;34m)\u001b[0m\u001b[0;34m\u001b[0m\u001b[0m\n\u001b[0;32m-> 1158\u001b[0;31m         \u001b[0;32mreturn\u001b[0m \u001b[0mself\u001b[0m\u001b[0;34m.\u001b[0m\u001b[0mfunction\u001b[0m\u001b[0;34m(\u001b[0m\u001b[0;34m*\u001b[0m\u001b[0minputs\u001b[0m\u001b[0;34m)\u001b[0m\u001b[0;34m\u001b[0m\u001b[0m\n\u001b[0m\u001b[1;32m   1159\u001b[0m \u001b[0;34m\u001b[0m\u001b[0m\n\u001b[1;32m   1160\u001b[0m \u001b[0;34m\u001b[0m\u001b[0m\n",
      "\u001b[0;32m/home/ubuntu/anaconda2/lib/python2.7/site-packages/theano/compile/function_module.pyc\u001b[0m in \u001b[0;36m__call__\u001b[0;34m(self, *args, **kwargs)\u001b[0m\n\u001b[1;32m    882\u001b[0m         \u001b[0;32mtry\u001b[0m\u001b[0;34m:\u001b[0m\u001b[0;34m\u001b[0m\u001b[0m\n\u001b[1;32m    883\u001b[0m             \u001b[0moutputs\u001b[0m \u001b[0;34m=\u001b[0m\u001b[0;31m\\\u001b[0m\u001b[0;34m\u001b[0m\u001b[0m\n\u001b[0;32m--> 884\u001b[0;31m                 \u001b[0mself\u001b[0m\u001b[0;34m.\u001b[0m\u001b[0mfn\u001b[0m\u001b[0;34m(\u001b[0m\u001b[0;34m)\u001b[0m \u001b[0;32mif\u001b[0m \u001b[0moutput_subset\u001b[0m \u001b[0;32mis\u001b[0m \u001b[0mNone\u001b[0m \u001b[0;32melse\u001b[0m\u001b[0;31m\\\u001b[0m\u001b[0;34m\u001b[0m\u001b[0m\n\u001b[0m\u001b[1;32m    885\u001b[0m                 \u001b[0mself\u001b[0m\u001b[0;34m.\u001b[0m\u001b[0mfn\u001b[0m\u001b[0;34m(\u001b[0m\u001b[0moutput_subset\u001b[0m\u001b[0;34m=\u001b[0m\u001b[0moutput_subset\u001b[0m\u001b[0;34m)\u001b[0m\u001b[0;34m\u001b[0m\u001b[0m\n\u001b[1;32m    886\u001b[0m         \u001b[0;32mexcept\u001b[0m \u001b[0mException\u001b[0m\u001b[0;34m:\u001b[0m\u001b[0;34m\u001b[0m\u001b[0m\n",
      "\u001b[0;32m/home/ubuntu/anaconda2/lib/python2.7/site-packages/theano/ifelse.pyc\u001b[0m in \u001b[0;36mthunk\u001b[0;34m()\u001b[0m\n\u001b[1;32m    244\u001b[0m         \u001b[0moutputs\u001b[0m \u001b[0;34m=\u001b[0m \u001b[0mnode\u001b[0m\u001b[0;34m.\u001b[0m\u001b[0moutputs\u001b[0m\u001b[0;34m\u001b[0m\u001b[0m\n\u001b[1;32m    245\u001b[0m \u001b[0;34m\u001b[0m\u001b[0m\n\u001b[0;32m--> 246\u001b[0;31m         \u001b[0;32mdef\u001b[0m \u001b[0mthunk\u001b[0m\u001b[0;34m(\u001b[0m\u001b[0;34m)\u001b[0m\u001b[0;34m:\u001b[0m\u001b[0;34m\u001b[0m\u001b[0m\n\u001b[0m\u001b[1;32m    247\u001b[0m             \u001b[0;32mif\u001b[0m \u001b[0;32mnot\u001b[0m \u001b[0mcompute_map\u001b[0m\u001b[0;34m[\u001b[0m\u001b[0mcond\u001b[0m\u001b[0;34m]\u001b[0m\u001b[0;34m[\u001b[0m\u001b[0;36m0\u001b[0m\u001b[0;34m]\u001b[0m\u001b[0;34m:\u001b[0m\u001b[0;34m\u001b[0m\u001b[0m\n\u001b[1;32m    248\u001b[0m                 \u001b[0;32mreturn\u001b[0m \u001b[0;34m[\u001b[0m\u001b[0;36m0\u001b[0m\u001b[0;34m]\u001b[0m\u001b[0;34m\u001b[0m\u001b[0m\n",
      "\u001b[0;31mKeyboardInterrupt\u001b[0m: "
     ]
    }
   ],
   "source": [
    "conf['nb_epoch'] = 5\n",
    "conf['data_augmentation'] = False\n",
    "\n",
    "print(\"Fitting model...\")\n",
    "\n",
    "if not conf['data_augmentation']:\n",
    "    print('Not using data augmentation.')\n",
    "    model.fit(X_train, Y_train,\n",
    "              batch_size=conf['batch_size'],\n",
    "              nb_epoch=conf['nb_epoch'],\n",
    "              validation_data=(X_valid, Y_valid),\n",
    "              shuffle=True,\n",
    "              verbose=2,\n",
    "              callbacks=[lr_reducer, early_stopper, csv_logger])\n",
    "else:\n",
    "    print('Using real-time data augmentation.')\n",
    "    # This will do preprocessing and realtime data augmentation:\n",
    "    datagen = ImageDataGenerator(\n",
    "        featurewise_center=False,  # set input mean to 0 over the dataset\n",
    "        samplewise_center=False,  # set each sample mean to 0\n",
    "        featurewise_std_normalization=False,  # divide inputs by std of the dataset\n",
    "        samplewise_std_normalization=False,  # divide each input by its std\n",
    "        zca_whitening=False,  # apply ZCA whitening\n",
    "        rotation_range=180,  # randomly rotate images in the range (degrees, 0 to 180)\n",
    "        width_shift_range=0.15,  # randomly shift images horizontally (fraction of total width)\n",
    "        height_shift_range=0.15,  # randomly shift images vertically (fraction of total height)\n",
    "        horizontal_flip=False,  # randomly flip images\n",
    "        vertical_flip=False)  # randomly flip images\n",
    "    \n",
    "    # Compute quantities required for featurewise normalization\n",
    "    # (std, mean, and principal components if ZCA whitening is applied).\n",
    "    datagen.fit(X_train)\n",
    "    \n",
    "    # Fit the model on the batches generated by datagen.flow().\n",
    "    model.fit_generator(datagen.flow(X_train, Y_train, batch_size=conf['batch_size']),\n",
    "                        steps_per_epoch=X_train.shape[0] // conf['batch_size'],\n",
    "                        validation_data=(X_valid, Y_valid),\n",
    "                        epochs=conf['nb_epoch'], verbose=2, max_q_size=100,\n",
    "                        callbacks=[lr_reducer, early_stopper, csv_logger])\n",
    "\n",
    "model.save(\"resnet50_wts.h5\")\n",
    "print(\"...Done\")"
   ]
  },
  {
   "cell_type": "code",
   "execution_count": null,
   "metadata": {
    "collapsed": true
   },
   "outputs": [],
   "source": []
  }
 ],
 "metadata": {
  "anaconda-cloud": {},
  "kernelspec": {
   "display_name": "Python [default]",
   "language": "python",
   "name": "python2"
  },
  "language_info": {
   "codemirror_mode": {
    "name": "ipython",
    "version": 2
   },
   "file_extension": ".py",
   "mimetype": "text/x-python",
   "name": "python",
   "nbconvert_exporter": "python",
   "pygments_lexer": "ipython2",
   "version": "2.7.12"
  }
 },
 "nbformat": 4,
 "nbformat_minor": 2
}
