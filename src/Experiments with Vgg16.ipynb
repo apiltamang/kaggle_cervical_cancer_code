{
 "cells": [
  {
   "cell_type": "code",
   "execution_count": 1,
   "metadata": {
    "collapsed": false,
    "deletable": true,
    "editable": true
   },
   "outputs": [
    {
     "name": "stderr",
     "output_type": "stream",
     "text": [
      "Using Theano backend.\n",
      "Using gpu device 0: Tesla K80 (CNMeM is disabled, cuDNN 5103)\n",
      "/home/ubuntu/anaconda2/lib/python2.7/site-packages/theano/sandbox/cuda/__init__.py:600: UserWarning: Your cuDNN version is more recent than the one Theano officially supports. If you see any problems, try updating Theano or downgrading cuDNN to version 5.\n",
      "  warnings.warn(warn)\n"
     ]
    }
   ],
   "source": [
    "from Executor import *"
   ]
  },
  {
   "cell_type": "code",
   "execution_count": 2,
   "metadata": {
    "collapsed": false,
    "deletable": true,
    "editable": true
   },
   "outputs": [
    {
     "name": "stdout",
     "output_type": "stream",
     "text": [
      "Pretrained Vgg16 model loaded.\n",
      "Found 6166 images belonging to 3 classes.\n",
      "Found 1461 images belonging to 3 classes.\n",
      "initialized training data from: ../data/segmented/train\n",
      "initialized validation data from: ../data/segmented/valid\n",
      "found number of softmax classes: 3\n"
     ]
    }
   ],
   "source": [
    "# Reset the model, and run same finetuning using precomputed conv. model outputs. See if they match...\n",
    "executor = ExecutorBuilder().\\\n",
    "    with_runID(\"third\").\\\n",
    "    and_().\\\n",
    "    with_Vgg16().\\\n",
    "    and_().\\\n",
    "    train_batch_size(128). \\\n",
    "    and_(). \\\n",
    "    learn_rate(0.001).\\\n",
    "    and_().\\\n",
    "    data_on_path(\"../data/segmented/\").\\\n",
    "    build()"
   ]
  },
  {
   "cell_type": "code",
   "execution_count": 3,
   "metadata": {
    "collapsed": false
   },
   "outputs": [
    {
     "name": "stdout",
     "output_type": "stream",
     "text": [
      "loading precomputed conv. outputs...\n",
      "done...\n",
      "getting rescaled fc model...\n",
      "found dense layer. Distributing scaled weights..\n",
      "found dense layer. Distributing scaled weights..\n",
      "found dense layer. Distributing scaled weights..\n",
      "found dense layer. Distributing scaled weights..\n",
      "found dense layer. Distributing scaled weights..\n",
      "found dense layer. Distributing scaled weights..\n",
      "found dense layer. Distributing scaled weights..\n",
      "done...\n",
      "('updating dropout from: ', 0.5, ' to: ', 0.5)\n"
     ]
    }
   ],
   "source": [
    "# executor.precompute_conv_model_outputs()\n",
    "\n",
    "executor.load_precomputed_conv_models()\n",
    "\n",
    "fc_model = executor.get_rescaled_fc_model(new_dropout=0.5)"
   ]
  },
  {
   "cell_type": "code",
   "execution_count": 6,
   "metadata": {
    "collapsed": true,
    "deletable": true,
    "editable": true
   },
   "outputs": [],
   "source": [
    "# for layer in fc_model.layers:\n",
    "#     layer.trainable = False\n",
    "\n",
    "# fc_model.layers[-1].trainable = True\n",
    "\n",
    "# opt = Adam(lr=0.001)\n",
    "# fc_model.compile(optimizer=opt, loss='categorical_crossentropy', metrics=['accuracy'])\n",
    "\n",
    "# print(\"fine tuning the rescaled fc model...\")\n",
    "# fc_model.fit(executor.train_precomputed, executor.train_labels, nb_epoch=5,\n",
    "#                batch_size= executor.batch_size, validation_data=(executor.val_precomputed, executor.val_labels))\n",
    "\n",
    "# opt = Adam(lr=0.001)\n",
    "# fc_model.compile(optimizer=opt, loss='categorical_crossentropy', metrics=['accuracy'])\n",
    "\n",
    "# print(\"fine tuning the rescaled fc model...\")\n",
    "# fc_model.fit(executor.train_precomputed, executor.train_labels, nb_epoch=5,\n",
    "#                batch_size= executor.batch_size, validation_data=(executor.val_precomputed, executor.val_labels))\n",
    "\n",
    "# opt = Adam(lr=0.0001)\n",
    "# fc_model.compile(optimizer=opt, loss='categorical_crossentropy', metrics=['accuracy'])\n",
    "\n",
    "# print(\"fine tuning the rescaled fc model...\")\n",
    "# fc_model.fit(executor.train_precomputed, executor.train_labels, nb_epoch=3,\n",
    "#                batch_size= executor.batch_size, validation_data=(executor.val_precomputed, executor.val_labels))\n",
    "\n",
    "# for layer in fc_model.layers:\n",
    "#     layer.trainable = False\n",
    "\n",
    "# fc_model.layers[-1].trainable=True\n",
    "# fc_model.layers[-2].trainable=True\n",
    "\n",
    "# opt = Adam(lr=0.00001)\n",
    "# fc_model.compile(optimizer=opt, loss='categorical_crossentropy', metrics=['accuracy'])\n",
    "\n",
    "# print(\"fine tuning the rescaled fc model...\")\n",
    "# fc_model.fit(executor.train_precomputed, executor.train_labels, nb_epoch=3,\n",
    "#                batch_size= executor.batch_size, validation_data=(executor.val_precomputed, executor.val_labels))    \n",
    "\n",
    "# fc_model.save_weights(\"fc_model_val_loss=0_85.segmented.h5\")\n",
    "\n",
    "# fc_model.fit(executor.train_precomputed, executor.train_labels, nb_epoch=3,\n",
    "#                batch_size= executor.batch_size, validation_data=(executor.val_precomputed, executor.val_labels))\n",
    "\n",
    "# for layer in fc_model.layers:\n",
    "#     layer.trainable=True\n",
    "\n",
    "# opt = Adam(lr=0.000001)\n",
    "# fc_model.compile(optimizer=opt, loss='categorical_crossentropy', metrics=['accuracy'])    \n",
    "\n",
    "# fc_model.fit(executor.train_precomputed, executor.train_labels, nb_epoch=5,\n",
    "#                batch_size= executor.batch_size, validation_data=(executor.val_precomputed, executor.val_labels))\n",
    "\n",
    "# fc_model.save_weights(\"fc_model_val_loss=0_83.segmented.h5\")\n",
    "\n",
    "# print(\"fine tuning the rescaled fc model...\")\n",
    "# fc_model.fit(executor.train_precomputed, executor.train_labels, nb_epoch=5,\n",
    "#                batch_size= executor.batch_size, validation_data=(executor.val_precomputed, executor.val_labels))\n",
    "\n",
    "# fc_model.fit(executor.train_precomputed, executor.train_labels, nb_epoch=5,\n",
    "#                batch_size= executor.batch_size, validation_data=(executor.val_precomputed, executor.val_labels))\n",
    "\n",
    "# fc_model.save_weights(\"fc_model_val_loss=0_80.segmented.h5\")\n",
    "\n",
    "# fc_model.fit(executor.train_precomputed, executor.train_labels, nb_epoch=5,\n",
    "#                batch_size= executor.batch_size, validation_data=(executor.val_precomputed, executor.val_labels))\n",
    "\n",
    "# fc_model.fit(executor.train_precomputed, executor.train_labels, nb_epoch=5,\n",
    "#                batch_size= executor.batch_size, validation_data=(executor.val_precomputed, executor.val_labels))\n",
    "\n",
    "# fc_model.save_weights(\"fc_model_val_loss=0_77.segmented.h5\")\n",
    "\n",
    "# fc_model.load_weights(\"fc_model_val_loss=0_77.segmented.h5\")\n",
    "\n",
    "# fc_model.fit(executor.train_precomputed, executor.train_labels, nb_epoch=5,\n",
    "#                batch_size= executor.batch_size, validation_data=(executor.val_precomputed, executor.val_labels))\n",
    "\n",
    "# fc_model.fit(executor.train_precomputed, executor.train_labels, nb_epoch=10,\n",
    "#                batch_size= executor.batch_size, validation_data=(executor.val_precomputed, executor.val_labels))\n",
    "\n",
    "# fc_model.fit(executor.train_precomputed, executor.train_labels, nb_epoch=3,\n",
    "#                batch_size= executor.batch_size, validation_data=(executor.val_precomputed, executor.val_labels))\n",
    "\n",
    "# fc_model.save_weights(\"fc_model_val_loss=0_72.segmented.h5\")\n",
    "\n",
    "# fc_model.fit(executor.train_precomputed, executor.train_labels, nb_epoch=5,\n",
    "#                batch_size= executor.batch_size, validation_data=(executor.val_precomputed, executor.val_labels))\n",
    "\n",
    "# fc_model.fit(executor.train_precomputed, executor.train_labels, nb_epoch=5,\n",
    "#                batch_size= executor.batch_size, validation_data=(executor.val_precomputed, executor.val_labels))\n",
    "\n",
    "#fc_model.save_weights(\"fc_model_val_loss=0_71.segmented.h5\")"
   ]
  },
  {
   "cell_type": "code",
   "execution_count": 4,
   "metadata": {
    "collapsed": true
   },
   "outputs": [],
   "source": [
    "fc_model.load_weights(\"fc_model_val_loss=0_71.segmented.h5\")"
   ]
  },
  {
   "cell_type": "code",
   "execution_count": 5,
   "metadata": {
    "collapsed": false,
    "deletable": true,
    "editable": true
   },
   "outputs": [
    {
     "data": {
      "text/plain": [
       "<Executor.Executor instance at 0x7f36865ed2d8>"
      ]
     },
     "execution_count": 5,
     "metadata": {},
     "output_type": "execute_result"
    }
   ],
   "source": [
    "executor.init_vgg_with_retrained_fc_layers(fc_model)"
   ]
  },
  {
   "cell_type": "code",
   "execution_count": 6,
   "metadata": {
    "collapsed": false,
    "deletable": true,
    "editable": true
   },
   "outputs": [
    {
     "data": {
      "text/plain": [
       "<Executor.Executor instance at 0x7f36865ed2d8>"
      ]
     },
     "execution_count": 6,
     "metadata": {},
     "output_type": "execute_result"
    }
   ],
   "source": [
    "#executor.save_model_to_file(\"vgg16_with_dense_layer_trained_to_0_71.segmented.h5\")"
   ]
  },
  {
   "cell_type": "code",
   "execution_count": 52,
   "metadata": {
    "collapsed": false
   },
   "outputs": [
    {
     "data": {
      "text/plain": [
       "<Executor.Executor instance at 0x7f36865ed2d8>"
      ]
     },
     "execution_count": 52,
     "metadata": {},
     "output_type": "execute_result"
    }
   ],
   "source": [
    "executor.load_model_from_file(\"vgg16_with_dense_layer_trained_to_0_71.segmented.h5\")"
   ]
  },
  {
   "cell_type": "code",
   "execution_count": 7,
   "metadata": {
    "collapsed": false,
    "deletable": true,
    "editable": true
   },
   "outputs": [
    {
     "name": "stdout",
     "output_type": "stream",
     "text": [
      "Found 512 images belonging to 1 classes.\n"
     ]
    },
    {
     "data": {
      "text/html": [
       "<a href='predictions.vgg16_val_loss_0_71.h5' target='_blank'>predictions.vgg16_val_loss_0_71.h5</a><br>"
      ],
      "text/plain": [
       "/home/ubuntu/kaggle_cervical_cancer_code/src/predictions.vgg16_val_loss_0_71.h5"
      ]
     },
     "execution_count": 7,
     "metadata": {},
     "output_type": "execute_result"
    }
   ],
   "source": [
    "executor.build_predictions_on_test_data().and_().save_predictions_to_file(\"predictions.vgg16_val_loss_0_71.h5\")"
   ]
  },
  {
   "cell_type": "code",
   "execution_count": 59,
   "metadata": {
    "collapsed": false
   },
   "outputs": [],
   "source": [
    "layers = executor.vgg.model.layers\n",
    "index_conv_layers = [index for index, layer in enumerate(layers) if type(layer) is Convolution2D]"
   ]
  },
  {
   "cell_type": "code",
   "execution_count": 60,
   "metadata": {
    "collapsed": false
   },
   "outputs": [
    {
     "name": "stdout",
     "output_type": "stream",
     "text": [
      "[2, 4, 7, 9, 12, 14, 16, 19, 21, 23, 26, 28, 30]\n"
     ]
    }
   ],
   "source": [
    "print index_conv_layers"
   ]
  },
  {
   "cell_type": "code",
   "execution_count": 61,
   "metadata": {
    "collapsed": true
   },
   "outputs": [],
   "source": [
    "for layer in executor.vgg.model.layers[26:]:\n",
    "    layer.trainable = True\n",
    "    "
   ]
  },
  {
   "cell_type": "markdown",
   "metadata": {},
   "source": [
    "### Train 3 conv layers as well, in addition to the dense layers"
   ]
  },
  {
   "cell_type": "code",
   "execution_count": 62,
   "metadata": {
    "collapsed": true
   },
   "outputs": [],
   "source": [
    "executor.learn_rate = 0.000001"
   ]
  },
  {
   "cell_type": "code",
   "execution_count": 63,
   "metadata": {
    "collapsed": false
   },
   "outputs": [
    {
     "name": "stdout",
     "output_type": "stream",
     "text": [
      "Epoch 1/5\n",
      "6166/6166 [==============================] - 214s - loss: 0.2717 - acc: 0.9045 - val_loss: 0.7544 - val_acc: 0.6721\n",
      "Epoch 2/5\n",
      "6166/6166 [==============================] - 218s - loss: 0.2487 - acc: 0.9163 - val_loss: 0.7189 - val_acc: 0.6886\n",
      "Epoch 3/5\n",
      "6166/6166 [==============================] - 218s - loss: 0.2386 - acc: 0.9230 - val_loss: 0.7402 - val_acc: 0.6899\n",
      "Epoch 4/5\n",
      "6166/6166 [==============================] - 216s - loss: 0.2255 - acc: 0.9283 - val_loss: 0.7012 - val_acc: 0.7002\n",
      "Epoch 5/5\n",
      "6166/6166 [==============================] - 213s - loss: 0.2207 - acc: 0.9275 - val_loss: 0.7225 - val_acc: 0.6920\n"
     ]
    },
    {
     "data": {
      "text/plain": [
       "<Executor.Executor instance at 0x7f36865ed2d8>"
      ]
     },
     "execution_count": 63,
     "metadata": {},
     "output_type": "execute_result"
    }
   ],
   "source": [
    "executor.train_for_epochs(5)"
   ]
  },
  {
   "cell_type": "code",
   "execution_count": 64,
   "metadata": {
    "collapsed": false
   },
   "outputs": [
    {
     "name": "stdout",
     "output_type": "stream",
     "text": [
      "Epoch 1/5\n",
      "6166/6166 [==============================] - 217s - loss: 0.2147 - acc: 0.9311 - val_loss: 0.7254 - val_acc: 0.6968\n",
      "Epoch 2/5\n",
      "6166/6166 [==============================] - 217s - loss: 0.2010 - acc: 0.9380 - val_loss: 0.7334 - val_acc: 0.6831\n",
      "Epoch 3/5\n",
      "6166/6166 [==============================] - 215s - loss: 0.1920 - acc: 0.9387 - val_loss: 0.7084 - val_acc: 0.7098\n",
      "Epoch 4/5\n",
      "6166/6166 [==============================] - 212s - loss: 0.1788 - acc: 0.9458 - val_loss: 0.7270 - val_acc: 0.7009\n",
      "Epoch 5/5\n",
      "6166/6166 [==============================] - 217s - loss: 0.1681 - acc: 0.9518 - val_loss: 0.7638 - val_acc: 0.6879\n"
     ]
    },
    {
     "data": {
      "text/plain": [
       "<Executor.Executor instance at 0x7f36865ed2d8>"
      ]
     },
     "execution_count": 64,
     "metadata": {},
     "output_type": "execute_result"
    }
   ],
   "source": [
    "executor.train_for_epochs(5)"
   ]
  },
  {
   "cell_type": "code",
   "execution_count": null,
   "metadata": {
    "collapsed": true
   },
   "outputs": [],
   "source": []
  }
 ],
 "metadata": {
  "anaconda-cloud": {},
  "kernelspec": {
   "display_name": "Python [default]",
   "language": "python",
   "name": "python2"
  },
  "language_info": {
   "codemirror_mode": {
    "name": "ipython",
    "version": 2
   },
   "file_extension": ".py",
   "mimetype": "text/x-python",
   "name": "python",
   "nbconvert_exporter": "python",
   "pygments_lexer": "ipython2",
   "version": "2.7.12"
  }
 },
 "nbformat": 4,
 "nbformat_minor": 1
}
