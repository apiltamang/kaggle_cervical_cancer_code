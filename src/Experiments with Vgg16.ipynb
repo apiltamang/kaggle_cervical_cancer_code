{
 "cells": [
  {
   "cell_type": "code",
   "execution_count": 1,
   "metadata": {
    "collapsed": false
   },
   "outputs": [
    {
     "name": "stderr",
     "output_type": "stream",
     "text": [
      "Using Theano backend.\n",
      "Using gpu device 0: Tesla K80 (CNMeM is disabled, cuDNN 5103)\n",
      "/home/ubuntu/anaconda2/lib/python2.7/site-packages/theano/sandbox/cuda/__init__.py:600: UserWarning: Your cuDNN version is more recent than the one Theano officially supports. If you see any problems, try updating Theano or downgrading cuDNN to version 5.\n",
      "  warnings.warn(warn)\n"
     ]
    }
   ],
   "source": [
    "from Executor import *"
   ]
  },
  {
   "cell_type": "code",
   "execution_count": 42,
   "metadata": {
    "collapsed": false
   },
   "outputs": [
    {
     "name": "stdout",
     "output_type": "stream",
     "text": [
      "Pretrained Vgg16 model loaded.\n",
      "Found 6255 images belonging to 3 classes.\n",
      "Found 1549 images belonging to 3 classes.\n",
      "initialized training data from: ../data/full/train\n",
      "initialized validation data from: ../data/full/valid\n",
      "found number of softmax classes: 3\n"
     ]
    }
   ],
   "source": [
    "# Reset the model, and run same finetuning using precomputed conv. model outputs. See if they match...\n",
    "executor = ExecutorBuilder().\\\n",
    "    with_runID(\"second\").\\\n",
    "    and_().\\\n",
    "    with_Vgg16().\\\n",
    "    and_().\\\n",
    "    train_batch_size(128). \\\n",
    "    and_(). \\\n",
    "    learn_rate(0.001).\\\n",
    "    and_().\\\n",
    "    data_on_path(\"../data/full/\").\\\n",
    "    build()"
   ]
  },
  {
   "cell_type": "code",
   "execution_count": 4,
   "metadata": {
    "collapsed": false
   },
   "outputs": [
    {
     "name": "stdout",
     "output_type": "stream",
     "text": [
      "precomputing conv. model outputs..\n",
      "Found 6255 images belonging to 3 classes.\n",
      "Found 1549 images belonging to 3 classes.\n",
      "('models saved to files: ', 'precomputed_trn_features.second.h5', ' and ', 'precomputed_val_features.second.h5')\n",
      "done.\n"
     ]
    },
    {
     "data": {
      "text/plain": [
       "<Executor.Executor instance at 0x7f3f4fbc9560>"
      ]
     },
     "execution_count": 4,
     "metadata": {},
     "output_type": "execute_result"
    }
   ],
   "source": [
    "executor.precompute_conv_model_outputs()"
   ]
  },
  {
   "cell_type": "code",
   "execution_count": 3,
   "metadata": {
    "collapsed": false
   },
   "outputs": [
    {
     "name": "stdout",
     "output_type": "stream",
     "text": [
      "loading precomputed conv. outputs...\n",
      "done...\n"
     ]
    },
    {
     "data": {
      "text/plain": [
       "<Executor.Executor instance at 0x7feec6931368>"
      ]
     },
     "execution_count": 3,
     "metadata": {},
     "output_type": "execute_result"
    }
   ],
   "source": [
    "executor.load_precomputed_conv_models()"
   ]
  },
  {
   "cell_type": "code",
   "execution_count": 5,
   "metadata": {
    "collapsed": false
   },
   "outputs": [
    {
     "name": "stdout",
     "output_type": "stream",
     "text": [
      "getting rescaled fc model...\n",
      "found dense layer. Distributing scaled weights..\n",
      "found dense layer. Distributing scaled weights..\n",
      "found dense layer. Distributing scaled weights..\n",
      "found dense layer. Distributing scaled weights..\n",
      "found dense layer. Distributing scaled weights..\n",
      "found dense layer. Distributing scaled weights..\n",
      "found dense layer. Distributing scaled weights..\n",
      "done...\n",
      "('updating dropout from: ', 0.5, ' to: ', 0.5)\n"
     ]
    }
   ],
   "source": [
    "fc_model = executor.get_rescaled_fc_model(new_dropout=0.5)"
   ]
  },
  {
   "cell_type": "code",
   "execution_count": 7,
   "metadata": {
    "collapsed": true
   },
   "outputs": [],
   "source": [
    "for layer in fc_model.layers:\n",
    "    layer.trainable = False\n",
    "\n",
    "fc_model.layers[-1].trainable = True"
   ]
  },
  {
   "cell_type": "code",
   "execution_count": 8,
   "metadata": {
    "collapsed": false
   },
   "outputs": [
    {
     "name": "stdout",
     "output_type": "stream",
     "text": [
      "fine tuning the rescaled fc model...\n",
      "Train on 6255 samples, validate on 1549 samples\n",
      "Epoch 1/5\n",
      "6255/6255 [==============================] - 3s - loss: 1.7553 - acc: 0.4505 - val_loss: 1.0204 - val_acc: 0.4945\n",
      "Epoch 2/5\n",
      "6255/6255 [==============================] - 3s - loss: 1.4248 - acc: 0.4946 - val_loss: 0.9579 - val_acc: 0.5552\n",
      "Epoch 3/5\n",
      "6255/6255 [==============================] - 3s - loss: 1.2891 - acc: 0.4964 - val_loss: 0.9186 - val_acc: 0.5358\n",
      "Epoch 4/5\n",
      "6255/6255 [==============================] - 3s - loss: 1.1594 - acc: 0.5194 - val_loss: 0.9145 - val_acc: 0.5604\n",
      "Epoch 5/5\n",
      "6255/6255 [==============================] - 3s - loss: 1.0779 - acc: 0.5257 - val_loss: 0.9218 - val_acc: 0.5449\n"
     ]
    },
    {
     "data": {
      "text/plain": [
       "<keras.callbacks.History at 0x7f3f400653d0>"
      ]
     },
     "execution_count": 8,
     "metadata": {},
     "output_type": "execute_result"
    }
   ],
   "source": [
    "opt = Adam(lr=0.001)\n",
    "fc_model.compile(optimizer=opt, loss='categorical_crossentropy', metrics=['accuracy'])\n",
    "\n",
    "print(\"fine tuning the rescaled fc model...\")\n",
    "fc_model.fit(executor.train_precomputed, executor.train_labels, nb_epoch=5,\n",
    "               batch_size= executor.batch_size, validation_data=(executor.val_precomputed, executor.val_labels))"
   ]
  },
  {
   "cell_type": "code",
   "execution_count": 9,
   "metadata": {
    "collapsed": true
   },
   "outputs": [],
   "source": [
    "fc_model.save_weights(\"linear_model.second.weights.h5\")"
   ]
  },
  {
   "cell_type": "code",
   "execution_count": 10,
   "metadata": {
    "collapsed": false
   },
   "outputs": [
    {
     "name": "stdout",
     "output_type": "stream",
     "text": [
      "fine tuning the rescaled fc model...\n",
      "Train on 6255 samples, validate on 1549 samples\n",
      "Epoch 1/5\n",
      "6255/6255 [==============================] - 3s - loss: 1.0277 - acc: 0.5437 - val_loss: 0.8684 - val_acc: 0.5778\n",
      "Epoch 2/5\n",
      "6255/6255 [==============================] - 3s - loss: 0.9952 - acc: 0.5624 - val_loss: 0.8628 - val_acc: 0.5726\n",
      "Epoch 3/5\n",
      "6255/6255 [==============================] - 3s - loss: 0.9945 - acc: 0.5535 - val_loss: 0.8626 - val_acc: 0.5855\n",
      "Epoch 4/5\n",
      "6255/6255 [==============================] - 3s - loss: 0.9855 - acc: 0.5520 - val_loss: 0.8603 - val_acc: 0.5810\n",
      "Epoch 5/5\n",
      "6255/6255 [==============================] - 3s - loss: 0.9539 - acc: 0.5674 - val_loss: 0.8577 - val_acc: 0.5830\n"
     ]
    },
    {
     "data": {
      "text/plain": [
       "<keras.callbacks.History at 0x7f3f3559cf50>"
      ]
     },
     "execution_count": 10,
     "metadata": {},
     "output_type": "execute_result"
    }
   ],
   "source": [
    "opt = Adam(lr=0.0001)\n",
    "fc_model.compile(optimizer=opt, loss='categorical_crossentropy', metrics=['accuracy'])\n",
    "\n",
    "print(\"fine tuning the rescaled fc model...\")\n",
    "fc_model.fit(executor.train_precomputed, executor.train_labels, nb_epoch=5,\n",
    "               batch_size= executor.batch_size, validation_data=(executor.val_precomputed, executor.val_labels))"
   ]
  },
  {
   "cell_type": "code",
   "execution_count": 11,
   "metadata": {
    "collapsed": false
   },
   "outputs": [
    {
     "name": "stdout",
     "output_type": "stream",
     "text": [
      "Train on 6255 samples, validate on 1549 samples\n",
      "Epoch 1/5\n",
      "6255/6255 [==============================] - 3s - loss: 0.9714 - acc: 0.5557 - val_loss: 0.8525 - val_acc: 0.5823\n",
      "Epoch 2/5\n",
      "6255/6255 [==============================] - 3s - loss: 0.9622 - acc: 0.5573 - val_loss: 0.8537 - val_acc: 0.5849\n",
      "Epoch 3/5\n",
      "6255/6255 [==============================] - 3s - loss: 0.9520 - acc: 0.5682 - val_loss: 0.8516 - val_acc: 0.5842\n",
      "Epoch 4/5\n",
      "6255/6255 [==============================] - 3s - loss: 0.9285 - acc: 0.5755 - val_loss: 0.8504 - val_acc: 0.5978\n",
      "Epoch 5/5\n",
      "6255/6255 [==============================] - 3s - loss: 0.9292 - acc: 0.5778 - val_loss: 0.8529 - val_acc: 0.5933\n"
     ]
    },
    {
     "data": {
      "text/plain": [
       "<keras.callbacks.History at 0x7f3f355ab8d0>"
      ]
     },
     "execution_count": 11,
     "metadata": {},
     "output_type": "execute_result"
    }
   ],
   "source": [
    "fc_model.fit(executor.train_precomputed, executor.train_labels, nb_epoch=5,\n",
    "               batch_size= executor.batch_size, validation_data=(executor.val_precomputed, executor.val_labels))"
   ]
  },
  {
   "cell_type": "code",
   "execution_count": 12,
   "metadata": {
    "collapsed": true
   },
   "outputs": [],
   "source": [
    "for layer in fc_model.layers:\n",
    "    layer.trainable = True"
   ]
  },
  {
   "cell_type": "code",
   "execution_count": 13,
   "metadata": {
    "collapsed": true
   },
   "outputs": [],
   "source": [
    "fc_model.save_weights(\"linear_model_veryfine.second.weights.h5\")"
   ]
  },
  {
   "cell_type": "code",
   "execution_count": 15,
   "metadata": {
    "collapsed": true
   },
   "outputs": [],
   "source": [
    "fc_model.load_weights(\"linear_model_veryfine.second.weights.h5\")"
   ]
  },
  {
   "cell_type": "code",
   "execution_count": 18,
   "metadata": {
    "collapsed": true
   },
   "outputs": [],
   "source": [
    "for layer in fc_model.layers:\n",
    "    layer.trainable = False\n",
    "\n",
    "fc_model.layers[-1].trainable=True\n",
    "fc_model.layers[-3].trainable=True"
   ]
  },
  {
   "cell_type": "code",
   "execution_count": 35,
   "metadata": {
    "collapsed": true
   },
   "outputs": [],
   "source": [
    "fc_model.load_weights(\"linear_model_veryfine.second.weights.h5\")"
   ]
  },
  {
   "cell_type": "code",
   "execution_count": 36,
   "metadata": {
    "collapsed": false
   },
   "outputs": [
    {
     "name": "stdout",
     "output_type": "stream",
     "text": [
      "fine tuning the rescaled fc model...\n",
      "Train on 6255 samples, validate on 1549 samples\n",
      "Epoch 1/3\n",
      "6255/6255 [==============================] - 7s - loss: 0.9520 - acc: 0.5429 - val_loss: 0.8754 - val_acc: 0.5720\n",
      "Epoch 2/3\n",
      "6255/6255 [==============================] - 7s - loss: 0.7319 - acc: 0.6617 - val_loss: 0.7377 - val_acc: 0.6649\n",
      "Epoch 3/3\n",
      "6255/6255 [==============================] - 7s - loss: 0.5320 - acc: 0.7709 - val_loss: 0.7748 - val_acc: 0.6708\n"
     ]
    },
    {
     "data": {
      "text/plain": [
       "<keras.callbacks.History at 0x7f3f3b77ab90>"
      ]
     },
     "execution_count": 36,
     "metadata": {},
     "output_type": "execute_result"
    }
   ],
   "source": [
    "opt = Adam(lr=0.0001)\n",
    "fc_model.compile(optimizer=opt, loss='categorical_crossentropy', metrics=['accuracy'])\n",
    "\n",
    "print(\"fine tuning the rescaled fc model...\")\n",
    "fc_model.fit(executor.train_precomputed, executor.train_labels, nb_epoch=3,\n",
    "               batch_size= executor.batch_size, validation_data=(executor.val_precomputed, executor.val_labels))"
   ]
  },
  {
   "cell_type": "code",
   "execution_count": 37,
   "metadata": {
    "collapsed": false
   },
   "outputs": [
    {
     "name": "stdout",
     "output_type": "stream",
     "text": [
      "fine tuning the rescaled fc model...\n",
      "Train on 6255 samples, validate on 1549 samples\n",
      "Epoch 1/3\n",
      "6255/6255 [==============================] - 7s - loss: 0.3196 - acc: 0.8708 - val_loss: 0.8553 - val_acc: 0.7069\n",
      "Epoch 2/3\n",
      "6255/6255 [==============================] - 7s - loss: 0.1917 - acc: 0.9290 - val_loss: 1.0775 - val_acc: 0.6811\n",
      "Epoch 3/3\n",
      "6255/6255 [==============================] - 7s - loss: 0.1432 - acc: 0.9429 - val_loss: 1.0021 - val_acc: 0.7005\n"
     ]
    },
    {
     "data": {
      "text/plain": [
       "<keras.callbacks.History at 0x7f3f34ef13d0>"
      ]
     },
     "execution_count": 37,
     "metadata": {},
     "output_type": "execute_result"
    }
   ],
   "source": [
    "print(\"fine tuning the rescaled fc model...\")\n",
    "fc_model.fit(executor.train_precomputed, executor.train_labels, nb_epoch=3,\n",
    "               batch_size= executor.batch_size, validation_data=(executor.val_precomputed, executor.val_labels))"
   ]
  },
  {
   "cell_type": "code",
   "execution_count": 38,
   "metadata": {
    "collapsed": false
   },
   "outputs": [],
   "source": [
    "fc_model.save_weights(\"linear_2dense_model_veryfine.second.weights.h5\")"
   ]
  },
  {
   "cell_type": "code",
   "execution_count": 33,
   "metadata": {
    "collapsed": false
   },
   "outputs": [
    {
     "name": "stdout",
     "output_type": "stream",
     "text": [
      "fine tuning the rescaled fc model...\n",
      "Train on 6255 samples, validate on 1549 samples\n",
      "Epoch 1/2\n",
      "6255/6255 [==============================] - 7s - loss: 0.0939 - acc: 0.9741 - val_loss: 0.6969 - val_acc: 0.7353\n",
      "Epoch 2/2\n",
      "6255/6255 [==============================] - 7s - loss: 0.0732 - acc: 0.9826 - val_loss: 0.7204 - val_acc: 0.7334\n"
     ]
    },
    {
     "data": {
      "text/plain": [
       "<keras.callbacks.History at 0x7f3f35203c10>"
      ]
     },
     "execution_count": 33,
     "metadata": {},
     "output_type": "execute_result"
    }
   ],
   "source": [
    "print(\"fine tuning the rescaled fc model...\")\n",
    "fc_model.fit(executor.train_precomputed, executor.train_labels, nb_epoch=2,\n",
    "               batch_size= executor.batch_size, validation_data=(executor.val_precomputed, executor.val_labels))"
   ]
  },
  {
   "cell_type": "code",
   "execution_count": 39,
   "metadata": {
    "collapsed": true
   },
   "outputs": [],
   "source": [
    "for layer in fc_model.layers:\n",
    "    layer.trainable = True"
   ]
  },
  {
   "cell_type": "code",
   "execution_count": 40,
   "metadata": {
    "collapsed": false
   },
   "outputs": [
    {
     "name": "stdout",
     "output_type": "stream",
     "text": [
      "fine tuning the rescaled fc model...\n",
      "Train on 6255 samples, validate on 1549 samples\n",
      "Epoch 1/3\n",
      "6255/6255 [==============================] - 7s - loss: 0.0611 - acc: 0.9783 - val_loss: 1.1283 - val_acc: 0.7211\n",
      "Epoch 2/3\n",
      "6255/6255 [==============================] - 7s - loss: 0.0300 - acc: 0.9920 - val_loss: 1.1884 - val_acc: 0.7243\n",
      "Epoch 3/3\n",
      "6255/6255 [==============================] - 7s - loss: 0.0211 - acc: 0.9934 - val_loss: 1.2676 - val_acc: 0.7256\n"
     ]
    },
    {
     "data": {
      "text/plain": [
       "<keras.callbacks.History at 0x7f3f355b6e50>"
      ]
     },
     "execution_count": 40,
     "metadata": {},
     "output_type": "execute_result"
    }
   ],
   "source": [
    "opt = Adam(lr=0.00001)\n",
    "fc_model.compile(optimizer=opt, loss='categorical_crossentropy', metrics=['accuracy'])\n",
    "\n",
    "print(\"fine tuning the rescaled fc model...\")\n",
    "fc_model.fit(executor.train_precomputed, executor.train_labels, nb_epoch=3,\n",
    "               batch_size= executor.batch_size, validation_data=(executor.val_precomputed, executor.val_labels))"
   ]
  },
  {
   "cell_type": "code",
   "execution_count": 29,
   "metadata": {
    "collapsed": false
   },
   "outputs": [
    {
     "name": "stdout",
     "output_type": "stream",
     "text": [
      "Train on 6255 samples, validate on 1549 samples\n",
      "Epoch 1/2\n",
      "6255/6255 [==============================] - 7s - loss: 0.1583 - acc: 0.9514 - val_loss: 0.6715 - val_acc: 0.7218\n",
      "Epoch 2/2\n",
      "6255/6255 [==============================] - 7s - loss: 0.1160 - acc: 0.9699 - val_loss: 0.6895 - val_acc: 0.7405\n"
     ]
    },
    {
     "data": {
      "text/plain": [
       "<keras.callbacks.History at 0x7f3f353e3710>"
      ]
     },
     "execution_count": 29,
     "metadata": {},
     "output_type": "execute_result"
    }
   ],
   "source": [
    "fc_model.fit(executor.train_precomputed, executor.train_labels, nb_epoch=2,\n",
    "               batch_size= executor.batch_size, validation_data=(executor.val_precomputed, executor.val_labels))"
   ]
  },
  {
   "cell_type": "code",
   "execution_count": 43,
   "metadata": {
    "collapsed": false
   },
   "outputs": [
    {
     "data": {
      "text/plain": [
       "<Executor.Executor instance at 0x7f3f33f682d8>"
      ]
     },
     "execution_count": 43,
     "metadata": {},
     "output_type": "execute_result"
    }
   ],
   "source": [
    "executor.init_vgg_with_retrained_fc_layers(fc_model)"
   ]
  },
  {
   "cell_type": "code",
   "execution_count": 44,
   "metadata": {
    "collapsed": false
   },
   "outputs": [
    {
     "data": {
      "text/plain": [
       "<Executor.Executor instance at 0x7f3f33f682d8>"
      ]
     },
     "execution_count": 44,
     "metadata": {},
     "output_type": "execute_result"
    }
   ],
   "source": [
    "executor.save_model_to_file()"
   ]
  },
  {
   "cell_type": "code",
   "execution_count": 45,
   "metadata": {
    "collapsed": false
   },
   "outputs": [
    {
     "name": "stdout",
     "output_type": "stream",
     "text": [
      "Found 512 images belonging to 1 classes.\n"
     ]
    },
    {
     "data": {
      "text/html": [
       "<a href='best' target='_blank'>best</a><br>"
      ],
      "text/plain": [
       "/home/ubuntu/kaggle_cervical_cancer_code/src/best"
      ]
     },
     "execution_count": 45,
     "metadata": {},
     "output_type": "execute_result"
    }
   ],
   "source": [
    "executor.build_predictions_on_test_data().and_().save_predictions_to_file(\"best\")"
   ]
  },
  {
   "cell_type": "code",
   "execution_count": null,
   "metadata": {
    "collapsed": true
   },
   "outputs": [],
   "source": []
  }
 ],
 "metadata": {
  "anaconda-cloud": {},
  "kernelspec": {
   "display_name": "Python [conda root]",
   "language": "python",
   "name": "conda-root-py"
  },
  "language_info": {
   "codemirror_mode": {
    "name": "ipython",
    "version": 2
   },
   "file_extension": ".py",
   "mimetype": "text/x-python",
   "name": "python",
   "nbconvert_exporter": "python",
   "pygments_lexer": "ipython2",
   "version": "2.7.12"
  }
 },
 "nbformat": 4,
 "nbformat_minor": 1
}
